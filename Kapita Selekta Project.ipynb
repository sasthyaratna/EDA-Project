{
  "cells": [
    {
      "cell_type": "markdown",
      "metadata": {
        "id": "view-in-github"
      },
      "source": [
        "<a href=\"https://colab.research.google.com/github/nabilaaryanti/UAS-Kapita-Selekta/blob/main/UAS_KAPITA_SELEKTA.ipynb\" target=\"_parent\"><img src=\"https://colab.research.google.com/assets/colab-badge.svg\" alt=\"Open In Colab\"/></a>"
      ]
    },
    {
      "cell_type": "markdown",
      "metadata": {
        "id": "tF9W-tpJKMbB"
      },
      "source": [
        "**UAS KAPITA SELEKTA KELOMPOK ERUPSI**\n",
        "\n",
        "\n",
        "> Deadline **Selasa, 14 Desember 2021**\n",
        "\n",
        "\n",
        "\n",
        "\n",
        "*   Crawling data twitter dengan keyword Erupsi\n",
        "*   EDA (like, retweet, waktu terbanyak tweet, dll)\n",
        "*   Preprocessing twitter text\n",
        "*   NLP & twitter sentimental analysis\n",
        "*   Visualisasi\n",
        "*   Kesimpulan\n",
        "\n",
        "\n",
        "\n",
        "\n",
        "\n"
      ]
    },
    {
      "cell_type": "markdown",
      "metadata": {
        "id": "KWkQ_DdcQ160"
      },
      "source": [
        "# Import Moduls"
      ]
    },
    {
      "cell_type": "markdown",
      "metadata": {
        "id": "nZetD06tplA0"
      },
      "source": [
        "## Install some moduls"
      ]
    },
    {
      "cell_type": "code",
      "execution_count": 7,
      "metadata": {
        "colab": {
          "base_uri": "https://localhost:8080/"
        },
        "id": "UKiIMJatKPs7",
        "outputId": "4d9b3550-e93d-4e54-c458-193d33aab7be"
      },
      "outputs": [
        {
          "output_type": "stream",
          "name": "stdout",
          "text": [
            "Requirement already satisfied: unidecode in /usr/local/lib/python3.10/dist-packages (1.3.7)\n",
            "Requirement already satisfied: twython in /usr/local/lib/python3.10/dist-packages (3.9.1)\n",
            "Requirement already satisfied: tweepy in /usr/local/lib/python3.10/dist-packages (4.14.0)\n",
            "Requirement already satisfied: beautifulsoup4 in /usr/local/lib/python3.10/dist-packages (4.11.2)\n",
            "Requirement already satisfied: tika in /usr/local/lib/python3.10/dist-packages (2.6.0)\n",
            "Requirement already satisfied: requests>=2.1.0 in /usr/local/lib/python3.10/dist-packages (from twython) (2.31.0)\n",
            "Requirement already satisfied: requests-oauthlib>=0.4.0 in /usr/local/lib/python3.10/dist-packages (from twython) (1.3.1)\n",
            "Requirement already satisfied: oauthlib<4,>=3.2.0 in /usr/local/lib/python3.10/dist-packages (from tweepy) (3.2.2)\n",
            "Requirement already satisfied: soupsieve>1.2 in /usr/local/lib/python3.10/dist-packages (from beautifulsoup4) (2.5)\n",
            "Requirement already satisfied: setuptools in /usr/local/lib/python3.10/dist-packages (from tika) (67.7.2)\n",
            "Requirement already satisfied: charset-normalizer<4,>=2 in /usr/local/lib/python3.10/dist-packages (from requests>=2.1.0->twython) (3.3.2)\n",
            "Requirement already satisfied: idna<4,>=2.5 in /usr/local/lib/python3.10/dist-packages (from requests>=2.1.0->twython) (3.6)\n",
            "Requirement already satisfied: urllib3<3,>=1.21.1 in /usr/local/lib/python3.10/dist-packages (from requests>=2.1.0->twython) (2.0.7)\n",
            "Requirement already satisfied: certifi>=2017.4.17 in /usr/local/lib/python3.10/dist-packages (from requests>=2.1.0->twython) (2023.11.17)\n"
          ]
        }
      ],
      "source": [
        "!pip install unidecode twython tweepy beautifulsoup4 tika"
      ]
    },
    {
      "cell_type": "code",
      "execution_count": 8,
      "metadata": {
        "colab": {
          "base_uri": "https://localhost:8080/"
        },
        "id": "Clo7WqUUps8k",
        "outputId": "89739f79-cfde-44ba-a813-629598d9b9d3"
      },
      "outputs": [
        {
          "output_type": "stream",
          "name": "stdout",
          "text": [
            "Requirement already satisfied: docx2txt in /usr/local/lib/python3.10/dist-packages (0.8)\n"
          ]
        }
      ],
      "source": [
        "pip install docx2txt"
      ]
    },
    {
      "cell_type": "code",
      "execution_count": 9,
      "metadata": {
        "colab": {
          "base_uri": "https://localhost:8080/"
        },
        "id": "HLI46AFwS-tb",
        "outputId": "2d6c68a8-6909-4fc2-cd45-2b9962132cf7"
      },
      "outputs": [
        {
          "output_type": "stream",
          "name": "stdout",
          "text": [
            "Requirement already satisfied: Unidecode in /usr/local/lib/python3.10/dist-packages (1.3.7)\n"
          ]
        }
      ],
      "source": [
        "pip install Unidecode"
      ]
    },
    {
      "cell_type": "code",
      "execution_count": 10,
      "metadata": {
        "colab": {
          "base_uri": "https://localhost:8080/"
        },
        "id": "wDEnCovnpz_w",
        "outputId": "b138efe2-84ea-4388-f200-5a93acf68a97"
      },
      "outputs": [
        {
          "output_type": "stream",
          "name": "stderr",
          "text": [
            "[nltk_data] Downloading package punkt to /root/nltk_data...\n",
            "[nltk_data]   Package punkt is already up-to-date!\n"
          ]
        },
        {
          "output_type": "execute_result",
          "data": {
            "text/plain": [
              "True"
            ]
          },
          "metadata": {},
          "execution_count": 10
        }
      ],
      "source": [
        "import nltk\n",
        "nltk.download('punkt')"
      ]
    },
    {
      "cell_type": "markdown",
      "metadata": {
        "id": "T0Ltjnn8qBjV"
      },
      "source": [
        "## Load some moduls"
      ]
    },
    {
      "cell_type": "code",
      "execution_count": 11,
      "metadata": {
        "id": "sZo6I3GlVLi1"
      },
      "outputs": [],
      "source": [
        "import warnings; warnings.simplefilter('ignore')\n",
        "import tweepy, json, nltk, urllib.request, requests, os, random, cv2\n",
        "from urllib.request import Request, urlopen\n",
        "from twython import TwythonStreamer\n",
        "from bs4 import BeautifulSoup as bs\n",
        "from tqdm import tqdm\n",
        "import pandas as pd, numpy as np, matplotlib.pyplot as plt, seaborn as sns\n",
        "from collections import Counter\n",
        "import re, itertools, docx2txt\n",
        "from nltk.stem import WordNetLemmatizer\n",
        "from nltk import sent_tokenize, word_tokenize\n",
        "from spacy.lang.id import Indonesian\n",
        "from html import unescape\n",
        "from unidecode import unidecode\n",
        "from nltk.tokenize import TweetTokenizer; Tokenizer = TweetTokenizer(reduce_len=True)\n",
        "from nltk.stem import PorterStemmer;ps = PorterStemmer()\n",
        "from string import punctuation\n",
        "from bz2 import BZ2File as bz2\n",
        "from sklearn.feature_extraction.text import CountVectorizer\n",
        "from sklearn.decomposition import LatentDirichletAllocation as LDA\n",
        "from textblob import TextBlob\n",
        "import time\n",
        "from google.colab import files\n",
        "plt.style.use('bmh'); sns.set()\n",
        "%matplotlib inline"
      ]
    },
    {
      "cell_type": "markdown",
      "metadata": {
        "id": "tQI_quz1Q6xD"
      },
      "source": [
        "# Crawling Twitter Data\n",
        "Data Twitter yang akan digunakan pada Social Media Analysis ini berkaitan dengan bencana alam Erupsi, sehingga kata kunci yang akan kami gunakan yaitu \"Erupsi gunung\", \"Erupsi Semeru\" dan \"Erupsi Merapi\". Tiga kata kunci tersebut adalah kata kunci yang akhir-akhir menjadi Trending Topic Twitter dikarenakan terjadinya Erupsi pada gunung semeru dan merapi. Data ini kami ambil pada hari Selasa, 07 Desember 2021 pukul 21.00 WIB."
      ]
    },
    {
      "cell_type": "code",
      "execution_count": null,
      "metadata": {
        "colab": {
          "base_uri": "https://localhost:8080/",
          "height": 35
        },
        "id": "DPQxdZg_J7dZ",
        "outputId": "b19e7163-b4d7-4087-e687-7e14c2734b1a"
      },
      "outputs": [
        {
          "output_type": "execute_result",
          "data": {
            "application/vnd.google.colaboratory.intrinsic+json": {
              "type": "string"
            },
            "text/plain": [
              "'Done'"
            ]
          },
          "metadata": {},
          "execution_count": 7
        }
      ],
      "source": [
        "Ck = 'TzNLDZWobWBvrIj9Iv6a9DOum' # consumer_key\n",
        "Cs = 'dsM8YfWnYWXN3SIbjXeqc6bFA3o7leuIeD93J7bMLzPnsguNfA' # consumer_secret\n",
        "At = '1331229969419124739-BDzaf41o3xKp5PstMXOhvQhsEmWxf7' # access_token\n",
        "As = '4tJukJjqF03XrfTAytVUwqqWpRBMOFOc4XtUazBj7rJNA' # access_secret\n",
        "'Done'"
      ]
    },
    {
      "cell_type": "code",
      "execution_count": null,
      "metadata": {
        "colab": {
          "base_uri": "https://localhost:8080/"
        },
        "id": "IAWdyy12W_TL",
        "outputId": "4dd274b9-e996-4212-b2d9-aa45c7eb1e38"
      },
      "outputs": [
        {
          "output_type": "stream",
          "name": "stdout",
          "text": [
            "You are now connected to twitter server\n"
          ]
        }
      ],
      "source": [
        "auth = tweepy.auth.OAuthHandler(Ck, Cs)\n",
        "auth.set_access_token(At, As)\n",
        "api = tweepy.API(auth, wait_on_rate_limit=True, timeout=180, retry_count=5, retry_delay=3)\n",
        "usr_ = api.verify_credentials()\n",
        "print('You are now connected to twitter server'.format(usr_.name))"
      ]
    },
    {
      "cell_type": "code",
      "execution_count": null,
      "metadata": {
        "colab": {
          "base_uri": "https://localhost:8080/",
          "height": 53
        },
        "id": "y0RnromLXShw",
        "outputId": "e2e79586-fc16-4466-b84a-430ece9e2a80"
      },
      "outputs": [
        {
          "output_type": "stream",
          "name": "stderr",
          "text": [
            "5it [00:00, 18.37it/s]\n"
          ]
        },
        {
          "output_type": "execute_result",
          "data": {
            "application/vnd.google.colaboratory.intrinsic+json": {
              "type": "string"
            },
            "text/plain": [
              "\"Selesai mengambil 5 tweet tentang 'gunung erupsi'\""
            ]
          },
          "metadata": {},
          "execution_count": 9
        }
      ],
      "source": [
        "qry = 'gunung erupsi'\n",
        "N = 5 # jumlah N tweet \"terkini\" yang ingin diambil\n",
        "T = []\n",
        "for post in tqdm(tweepy.Cursor(api.search, q=qry, lang='id', tweet_mode='extended').items(N)):\n",
        "    T.append(post)\n",
        "\n",
        "\"Selesai mengambil {} tweet tentang '{}'\".format(len(T), qry)"
      ]
    },
    {
      "cell_type": "code",
      "execution_count": null,
      "metadata": {
        "colab": {
          "base_uri": "https://localhost:8080/"
        },
        "id": "qY5JwEOs2L_K",
        "outputId": "f322102b-b5b6-4523-ed33-83f3fe055dd4"
      },
      "outputs": [
        {
          "output_type": "stream",
          "name": "stdout",
          "text": [
            " Berhasil mendapatkan 5 tweets\n"
          ]
        }
      ],
      "source": [
        "tweet = [t._json for t in T]\n",
        "print(' Berhasil mendapatkan {} tweets'.format(len(tweet)))"
      ]
    },
    {
      "cell_type": "code",
      "execution_count": null,
      "metadata": {
        "id": "27919b88"
      },
      "outputs": [],
      "source": [
        "import json\n",
        "def saveTweets(tweets, file='Tweets.json'): #in Json Format\n",
        "    with open(file, 'w') as f:\n",
        "        for t in tweets:\n",
        "            try:\n",
        "                f.write(json.dumps(t)+'\\n')\n",
        "            except:\n",
        "                pass"
      ]
    },
    {
      "cell_type": "code",
      "execution_count": null,
      "metadata": {
        "colab": {
          "base_uri": "https://localhost:8080/"
        },
        "id": "a03e46dd",
        "outputId": "6184c93c-f57a-44a1-b86f-7fbb3b908ee3"
      },
      "outputs": [
        {
          "output_type": "stream",
          "name": "stdout",
          "text": [
            "Saved to GunungErupsi.json\n"
          ]
        }
      ],
      "source": [
        "# Menyimpan hasil crawling twitter\n",
        "fileName = 'GunungErupsi.json'\n",
        "saveTweets(tweet, file=fileName)\n",
        "print('Saved to '+fileName)"
      ]
    },
    {
      "cell_type": "markdown",
      "metadata": {
        "id": "xAVnYxvuTdoN"
      },
      "source": [
        "#EDA"
      ]
    },
    {
      "cell_type": "code",
      "execution_count": null,
      "metadata": {
        "id": "Ijir5UB3TesT"
      },
      "outputs": [],
      "source": [
        "data1 = pd.read_json('/content/UAS-Kapita-Selekta/data/ErupsiSemeru.json', lines = True)\n",
        "data2 = pd.read_json('/content/UAS-Kapita-Selekta/data/ErupsiMerapi.json', lines = True)\n",
        "data3 = pd.read_json('/content/UAS-Kapita-Selekta/data/GunungErupsi.json', lines = True)"
      ]
    },
    {
      "cell_type": "code",
      "execution_count": null,
      "metadata": {
        "id": "kU-1d3fTJz7A"
      },
      "outputs": [],
      "source": [
        "#combine all data\n",
        "df = pd.concat([data1, data2, data3])\n",
        "df = df.reset_index(drop= True)"
      ]
    },
    {
      "cell_type": "code",
      "execution_count": null,
      "metadata": {
        "colab": {
          "base_uri": "https://localhost:8080/"
        },
        "id": "-8Md_SsoTiZw",
        "outputId": "77fb964a-4a53-4d1b-d92d-1b62c6922e35"
      },
      "outputs": [
        {
          "output_type": "execute_result",
          "data": {
            "text/plain": [
              "('baris = ', 15000, ', Kolom = ', 31)"
            ]
          },
          "metadata": {},
          "execution_count": 15
        }
      ],
      "source": [
        "# Mengecek banyaknya baris dan kolom data\n",
        "N, P = df.shape\n",
        "'baris = ', N, ', Kolom = ', P"
      ]
    },
    {
      "cell_type": "code",
      "execution_count": null,
      "metadata": {
        "colab": {
          "base_uri": "https://localhost:8080/"
        },
        "id": "kyD2YDL06lp8",
        "outputId": "0bc6f86a-9d3e-4865-ccde-69e59dad2d59"
      },
      "outputs": [
        {
          "output_type": "execute_result",
          "data": {
            "text/plain": [
              "Index(['created_at', 'id', 'id_str', 'full_text', 'truncated',\n",
              "       'display_text_range', 'entities', 'metadata', 'source',\n",
              "       'in_reply_to_status_id', 'in_reply_to_status_id_str',\n",
              "       'in_reply_to_user_id', 'in_reply_to_user_id_str',\n",
              "       'in_reply_to_screen_name', 'user', 'geo', 'coordinates', 'place',\n",
              "       'contributors', 'retweeted_status', 'is_quote_status', 'retweet_count',\n",
              "       'favorite_count', 'favorited', 'retweeted', 'lang', 'extended_entities',\n",
              "       'possibly_sensitive', 'quoted_status_id', 'quoted_status_id_str',\n",
              "       'quoted_status'],\n",
              "      dtype='object')"
            ]
          },
          "metadata": {},
          "execution_count": 16
        }
      ],
      "source": [
        "df.keys()"
      ]
    },
    {
      "cell_type": "code",
      "execution_count": null,
      "metadata": {
        "id": "aXZXQkvF6lxN"
      },
      "outputs": [],
      "source": [
        "data = df[['created_at', 'id', 'id_str', 'full_text','source', 'in_reply_to_status_id', 'in_reply_to_status_id_str',\n",
        "         'in_reply_to_user_id', 'in_reply_to_user_id_str', 'in_reply_to_screen_name', 'geo', 'retweet_count',\n",
        "         'favorite_count', 'lang' ]]"
      ]
    },
    {
      "cell_type": "code",
      "source": [
        "user = df['user']"
      ],
      "metadata": {
        "id": "iihVZXHQFdoB"
      },
      "execution_count": null,
      "outputs": []
    },
    {
      "cell_type": "code",
      "execution_count": null,
      "metadata": {
        "id": "wiRojwJV6l4d"
      },
      "outputs": [],
      "source": [
        "#ubah kolom user menjadi dataframe baru\n",
        "user_list = []\n",
        "for name in user:\n",
        "  user_list.append(name)"
      ]
    },
    {
      "cell_type": "code",
      "execution_count": null,
      "metadata": {
        "id": "rswEfFz86l_-",
        "colab": {
          "base_uri": "https://localhost:8080/",
          "height": 206
        },
        "outputId": "b3e2209f-8430-4ac7-e1f5-ecf2fdcbb223"
      },
      "outputs": [
        {
          "output_type": "execute_result",
          "data": {
            "text/html": [
              "<div>\n",
              "<style scoped>\n",
              "    .dataframe tbody tr th:only-of-type {\n",
              "        vertical-align: middle;\n",
              "    }\n",
              "\n",
              "    .dataframe tbody tr th {\n",
              "        vertical-align: top;\n",
              "    }\n",
              "\n",
              "    .dataframe thead th {\n",
              "        text-align: right;\n",
              "    }\n",
              "</style>\n",
              "<table border=\"1\" class=\"dataframe\">\n",
              "  <thead>\n",
              "    <tr style=\"text-align: right;\">\n",
              "      <th></th>\n",
              "      <th>name</th>\n",
              "      <th>screen_name</th>\n",
              "      <th>location</th>\n",
              "      <th>verified</th>\n",
              "      <th>followers_count</th>\n",
              "      <th>friends_count</th>\n",
              "    </tr>\n",
              "  </thead>\n",
              "  <tbody>\n",
              "    <tr>\n",
              "      <th>14995</th>\n",
              "      <td>Ŕàķèť Ňýãmůķ 🇮🇩🇮🇩🇮🇩</td>\n",
              "      <td>deeepi13</td>\n",
              "      <td>United States</td>\n",
              "      <td>False</td>\n",
              "      <td>10589</td>\n",
              "      <td>8519</td>\n",
              "    </tr>\n",
              "    <tr>\n",
              "      <th>14996</th>\n",
              "      <td>Karmila155</td>\n",
              "      <td>Karmila155</td>\n",
              "      <td></td>\n",
              "      <td>False</td>\n",
              "      <td>739</td>\n",
              "      <td>802</td>\n",
              "    </tr>\n",
              "    <tr>\n",
              "      <th>14997</th>\n",
              "      <td>calon ibu negara💃</td>\n",
              "      <td>thelightbuzz</td>\n",
              "      <td></td>\n",
              "      <td>False</td>\n",
              "      <td>762</td>\n",
              "      <td>833</td>\n",
              "    </tr>\n",
              "    <tr>\n",
              "      <th>14998</th>\n",
              "      <td>BeritaCenter</td>\n",
              "      <td>BeritaCenter</td>\n",
              "      <td>DKI Jakarta, Indonesia</td>\n",
              "      <td>False</td>\n",
              "      <td>8795</td>\n",
              "      <td>4111</td>\n",
              "    </tr>\n",
              "    <tr>\n",
              "      <th>14999</th>\n",
              "      <td>calon ibu negara💃</td>\n",
              "      <td>thelightbuzz</td>\n",
              "      <td></td>\n",
              "      <td>False</td>\n",
              "      <td>762</td>\n",
              "      <td>833</td>\n",
              "    </tr>\n",
              "  </tbody>\n",
              "</table>\n",
              "</div>"
            ],
            "text/plain": [
              "                      name   screen_name  ... followers_count  friends_count\n",
              "14995  Ŕàķèť Ňýãmůķ 🇮🇩🇮🇩🇮🇩      deeepi13  ...           10589           8519\n",
              "14996           Karmila155    Karmila155  ...             739            802\n",
              "14997    calon ibu negara💃  thelightbuzz  ...             762            833\n",
              "14998         BeritaCenter  BeritaCenter  ...            8795           4111\n",
              "14999    calon ibu negara💃  thelightbuzz  ...             762            833\n",
              "\n",
              "[5 rows x 6 columns]"
            ]
          },
          "metadata": {},
          "execution_count": 23
        }
      ],
      "source": [
        "username = pd.DataFrame(user_list)\n",
        "username = username[['name', 'screen_name', 'location', 'verified', 'followers_count', 'friends_count']]\n",
        "username.tail()"
      ]
    },
    {
      "cell_type": "code",
      "execution_count": null,
      "metadata": {
        "colab": {
          "base_uri": "https://localhost:8080/",
          "height": 417
        },
        "id": "_9SAgt9D-rl6",
        "outputId": "1dd353e9-5ce4-4137-c4cb-e44227b5f710"
      },
      "outputs": [
        {
          "output_type": "execute_result",
          "data": {
            "text/html": [
              "<div>\n",
              "<style scoped>\n",
              "    .dataframe tbody tr th:only-of-type {\n",
              "        vertical-align: middle;\n",
              "    }\n",
              "\n",
              "    .dataframe tbody tr th {\n",
              "        vertical-align: top;\n",
              "    }\n",
              "\n",
              "    .dataframe thead th {\n",
              "        text-align: right;\n",
              "    }\n",
              "</style>\n",
              "<table border=\"1\" class=\"dataframe\">\n",
              "  <thead>\n",
              "    <tr style=\"text-align: right;\">\n",
              "      <th></th>\n",
              "      <th>created_at</th>\n",
              "      <th>id</th>\n",
              "      <th>id_str</th>\n",
              "      <th>full_text</th>\n",
              "      <th>source</th>\n",
              "      <th>in_reply_to_status_id</th>\n",
              "      <th>in_reply_to_status_id_str</th>\n",
              "      <th>in_reply_to_user_id</th>\n",
              "      <th>in_reply_to_user_id_str</th>\n",
              "      <th>in_reply_to_screen_name</th>\n",
              "      <th>geo</th>\n",
              "      <th>retweet_count</th>\n",
              "      <th>favorite_count</th>\n",
              "      <th>lang</th>\n",
              "      <th>name</th>\n",
              "      <th>screen_name</th>\n",
              "      <th>location</th>\n",
              "      <th>verified</th>\n",
              "      <th>followers_count</th>\n",
              "      <th>friends_count</th>\n",
              "    </tr>\n",
              "  </thead>\n",
              "  <tbody>\n",
              "    <tr>\n",
              "      <th>0</th>\n",
              "      <td>2021-12-07 12:40:05+00:00</td>\n",
              "      <td>1468198630519558144</td>\n",
              "      <td>1468198630519558144</td>\n",
              "      <td>RT @ListyoSigitP: Pagi ini Saya meninjau lebih...</td>\n",
              "      <td>&lt;a href=\"http://twitter.com/download/android\" ...</td>\n",
              "      <td>NaN</td>\n",
              "      <td>NaN</td>\n",
              "      <td>NaN</td>\n",
              "      <td>NaN</td>\n",
              "      <td>None</td>\n",
              "      <td>NaN</td>\n",
              "      <td>111</td>\n",
              "      <td>0</td>\n",
              "      <td>in</td>\n",
              "      <td>🇮🇩🐦 Eka Kurnia™ 🐦🇮🇩</td>\n",
              "      <td>ekurnia82</td>\n",
              "      <td>Banten - DKI Jakarta (PP)</td>\n",
              "      <td>False</td>\n",
              "      <td>1643</td>\n",
              "      <td>3201</td>\n",
              "    </tr>\n",
              "    <tr>\n",
              "      <th>1</th>\n",
              "      <td>2021-12-07 12:40:05+00:00</td>\n",
              "      <td>1468198628699213830</td>\n",
              "      <td>1468198628699213824</td>\n",
              "      <td>RT @6undul0h: Innalillahi wa innailaihi rojiun...</td>\n",
              "      <td>&lt;a href=\"http://twitter.com/download/android\" ...</td>\n",
              "      <td>NaN</td>\n",
              "      <td>NaN</td>\n",
              "      <td>NaN</td>\n",
              "      <td>NaN</td>\n",
              "      <td>None</td>\n",
              "      <td>NaN</td>\n",
              "      <td>4</td>\n",
              "      <td>0</td>\n",
              "      <td>in</td>\n",
              "      <td>🏴 #neversurrender</td>\n",
              "      <td>wiezz2</td>\n",
              "      <td></td>\n",
              "      <td>False</td>\n",
              "      <td>681</td>\n",
              "      <td>947</td>\n",
              "    </tr>\n",
              "    <tr>\n",
              "      <th>2</th>\n",
              "      <td>2021-12-07 12:40:05+00:00</td>\n",
              "      <td>1468198628216897537</td>\n",
              "      <td>1468198628216897536</td>\n",
              "      <td>RT @Abdillahonim: Tawaf TV: Guru dan Murid di ...</td>\n",
              "      <td>&lt;a href=\"https://mobile.twitter.com\" rel=\"nofo...</td>\n",
              "      <td>NaN</td>\n",
              "      <td>NaN</td>\n",
              "      <td>NaN</td>\n",
              "      <td>NaN</td>\n",
              "      <td>None</td>\n",
              "      <td>NaN</td>\n",
              "      <td>21</td>\n",
              "      <td>0</td>\n",
              "      <td>in</td>\n",
              "      <td>Triple_K</td>\n",
              "      <td>thewayon1</td>\n",
              "      <td></td>\n",
              "      <td>False</td>\n",
              "      <td>146</td>\n",
              "      <td>436</td>\n",
              "    </tr>\n",
              "    <tr>\n",
              "      <th>3</th>\n",
              "      <td>2021-12-07 12:40:04+00:00</td>\n",
              "      <td>1468198624265838596</td>\n",
              "      <td>1468198624265838592</td>\n",
              "      <td>RT @LautHumas: Polri Gelar Operasi Kemanusiaan...</td>\n",
              "      <td>&lt;a href=\"http://twitter.com/download/android\" ...</td>\n",
              "      <td>NaN</td>\n",
              "      <td>NaN</td>\n",
              "      <td>NaN</td>\n",
              "      <td>NaN</td>\n",
              "      <td>None</td>\n",
              "      <td>NaN</td>\n",
              "      <td>3</td>\n",
              "      <td>0</td>\n",
              "      <td>in</td>\n",
              "      <td>Al Ghifari 2005</td>\n",
              "      <td>2005Ghifari</td>\n",
              "      <td></td>\n",
              "      <td>False</td>\n",
              "      <td>2</td>\n",
              "      <td>4</td>\n",
              "    </tr>\n",
              "    <tr>\n",
              "      <th>4</th>\n",
              "      <td>2021-12-07 12:40:02+00:00</td>\n",
              "      <td>1468198616216924162</td>\n",
              "      <td>1468198616216924160</td>\n",
              "      <td>#BanserTanggapBencana Satkorcab Banser Kab. Pa...</td>\n",
              "      <td>&lt;a href=\"http://twitter.com/download/android\" ...</td>\n",
              "      <td>NaN</td>\n",
              "      <td>NaN</td>\n",
              "      <td>NaN</td>\n",
              "      <td>NaN</td>\n",
              "      <td>None</td>\n",
              "      <td>NaN</td>\n",
              "      <td>0</td>\n",
              "      <td>0</td>\n",
              "      <td>in</td>\n",
              "      <td>Khoirul Umam</td>\n",
              "      <td>Umam_elchoiru</td>\n",
              "      <td>Diantara Kopi, NU dan Kamu</td>\n",
              "      <td>False</td>\n",
              "      <td>1923</td>\n",
              "      <td>1206</td>\n",
              "    </tr>\n",
              "  </tbody>\n",
              "</table>\n",
              "</div>"
            ],
            "text/plain": [
              "                 created_at  ...  friends_count\n",
              "0 2021-12-07 12:40:05+00:00  ...           3201\n",
              "1 2021-12-07 12:40:05+00:00  ...            947\n",
              "2 2021-12-07 12:40:05+00:00  ...            436\n",
              "3 2021-12-07 12:40:04+00:00  ...              4\n",
              "4 2021-12-07 12:40:02+00:00  ...           1206\n",
              "\n",
              "[5 rows x 20 columns]"
            ]
          },
          "metadata": {},
          "execution_count": 24
        }
      ],
      "source": [
        "# menggabungkan dataframe sebelumnya dengan dataframe user\n",
        "dataFinal = pd.concat([data, username], axis=1)\n",
        "dataFinal.head()"
      ]
    },
    {
      "cell_type": "code",
      "source": [
        "#mengecek data yang duplikat pada dataFinal\n",
        "print(dataFinal.shape)\n",
        "dataFinal.duplicated().sum()"
      ],
      "metadata": {
        "colab": {
          "base_uri": "https://localhost:8080/"
        },
        "id": "E4YQWTBv7PiY",
        "outputId": "5defc548-96a3-41ce-c91a-06eb85e9aba5"
      },
      "execution_count": null,
      "outputs": [
        {
          "output_type": "stream",
          "name": "stdout",
          "text": [
            "(15000, 20)\n"
          ]
        },
        {
          "output_type": "execute_result",
          "data": {
            "text/plain": [
              "612"
            ]
          },
          "metadata": {},
          "execution_count": 27
        }
      ]
    },
    {
      "cell_type": "code",
      "source": [
        "#menghapus data duplikat\n",
        "dataFinal.drop_duplicates(inplace=True)\n",
        "print(dataFinal.duplicated().sum()) # hapus data yang duplikat\n",
        "print(dataFinal.shape) # re-check data"
      ],
      "metadata": {
        "colab": {
          "base_uri": "https://localhost:8080/"
        },
        "id": "wnHW-A7c7aiK",
        "outputId": "fbd4229a-4e3b-4d4b-d34a-c9a67c4f9ce3"
      },
      "execution_count": null,
      "outputs": [
        {
          "output_type": "stream",
          "name": "stdout",
          "text": [
            "0\n",
            "(14388, 20)\n"
          ]
        }
      ]
    },
    {
      "cell_type": "code",
      "source": [
        "dataFinal.keys()"
      ],
      "metadata": {
        "colab": {
          "base_uri": "https://localhost:8080/"
        },
        "id": "l0wJe6F_6TsP",
        "outputId": "1c7b2ad2-717b-46fd-ad8f-6b78dc6c5d75"
      },
      "execution_count": null,
      "outputs": [
        {
          "output_type": "execute_result",
          "data": {
            "text/plain": [
              "Index(['created_at', 'id', 'id_str', 'full_text', 'source',\n",
              "       'in_reply_to_status_id', 'in_reply_to_status_id_str',\n",
              "       'in_reply_to_user_id', 'in_reply_to_user_id_str',\n",
              "       'in_reply_to_screen_name', 'geo', 'retweet_count', 'favorite_count',\n",
              "       'lang', 'name', 'screen_name', 'location', 'verified',\n",
              "       'followers_count', 'friends_count'],\n",
              "      dtype='object')"
            ]
          },
          "metadata": {},
          "execution_count": 29
        }
      ]
    },
    {
      "cell_type": "code",
      "source": [
        "dataFinal.info()"
      ],
      "metadata": {
        "colab": {
          "base_uri": "https://localhost:8080/"
        },
        "id": "KkmRqJLW6cV_",
        "outputId": "c201b619-c1b8-4b8b-ee06-7b62802cd45b"
      },
      "execution_count": null,
      "outputs": [
        {
          "output_type": "stream",
          "name": "stdout",
          "text": [
            "<class 'pandas.core.frame.DataFrame'>\n",
            "Int64Index: 14388 entries, 0 to 14999\n",
            "Data columns (total 20 columns):\n",
            " #   Column                     Non-Null Count  Dtype              \n",
            "---  ------                     --------------  -----              \n",
            " 0   created_at                 14388 non-null  datetime64[ns, UTC]\n",
            " 1   id                         14388 non-null  int64              \n",
            " 2   id_str                     14388 non-null  int64              \n",
            " 3   full_text                  14388 non-null  object             \n",
            " 4   source                     14388 non-null  object             \n",
            " 5   in_reply_to_status_id      486 non-null    float64            \n",
            " 6   in_reply_to_status_id_str  486 non-null    float64            \n",
            " 7   in_reply_to_user_id        816 non-null    float64            \n",
            " 8   in_reply_to_user_id_str    816 non-null    float64            \n",
            " 9   in_reply_to_screen_name    816 non-null    object             \n",
            " 10  geo                        0 non-null      float64            \n",
            " 11  retweet_count              14388 non-null  int64              \n",
            " 12  favorite_count             14388 non-null  int64              \n",
            " 13  lang                       14388 non-null  object             \n",
            " 14  name                       14388 non-null  object             \n",
            " 15  screen_name                14388 non-null  object             \n",
            " 16  location                   14388 non-null  object             \n",
            " 17  verified                   14388 non-null  bool               \n",
            " 18  followers_count            14388 non-null  int64              \n",
            " 19  friends_count              14388 non-null  int64              \n",
            "dtypes: bool(1), datetime64[ns, UTC](1), float64(5), int64(6), object(7)\n",
            "memory usage: 2.2+ MB\n"
          ]
        }
      ]
    },
    {
      "cell_type": "markdown",
      "metadata": {
        "id": "AsOQCucXTfKl"
      },
      "source": [
        "# Text Preprocessing"
      ]
    },
    {
      "cell_type": "code",
      "execution_count": null,
      "metadata": {
        "id": "sNti7CaYTiLN"
      },
      "outputs": [],
      "source": [
        "#ubah nama kolom full_text menjadi text\n",
        "dataFinal.rename(columns={'full_text':'text'}, inplace=True)"
      ]
    },
    {
      "cell_type": "code",
      "execution_count": null,
      "metadata": {
        "id": "t47OOkFPTlzn"
      },
      "outputs": [],
      "source": [
        "def crawlFiles(dPath, types = None):\n",
        "    #dPath = 'C:/Temp', types ='pdf'\n",
        "    if types:\n",
        "        return [dPath+'/'+f for f in os.listdir(dPath) if f.endswith('.'+types)]\n",
        "    else:\n",
        "        return [dPath+'/'+f for f in os.listdir(dPath)]\n",
        "def readBz2(file):\n",
        "    with bz2(file, \"r\") as bzData:\n",
        "        txt = []\n",
        "        for line in bzData:\n",
        "            try:\n",
        "                txt.append(line.strip().decode('utf-8','replace'))\n",
        "            except:\n",
        "                pass\n",
        "    return ' '.join(txt)"
      ]
    },
    {
      "cell_type": "code",
      "execution_count": null,
      "metadata": {
        "id": "oNrersy_TmBw"
      },
      "outputs": [],
      "source": [
        "def LoadDocuments(dPath=None,types=None, file = None): # types = ['pdf','doc','docx','txt','bz2']\n",
        "    Files, Docs = [], []\n",
        "    if types:\n",
        "        for tipe in types:\n",
        "            Files += crawlFiles(dPath,tipe)\n",
        "    if file:\n",
        "        Files = [file]\n",
        "    if not types and not file: # get all files regardless of their extensions\n",
        "        Files += crawlFiles(dPath)\n",
        "    for f in Files:\n",
        "#        if f[-3:].lower()=='pdf':\n",
        "#            try:\n",
        "#                Docs.append(PDF(f).string)\n",
        "#            except:\n",
        "#                print('error reading{0}'.format(f))\n",
        "        if f[-3:].lower()=='txt':\n",
        "            try:\n",
        "                df=open(f,\"r\",encoding=\"utf-8\", errors='replace')\n",
        "                Docs.append(df.readlines());df.close()\n",
        "            except:\n",
        "                print('error reading{0}'.format(f))\n",
        "        elif f[-3:].lower()=='bz2':\n",
        "            try:\n",
        "                Docs.append(readBz2(f))\n",
        "            except:\n",
        "                print('error reading{0}'.format(f))\n",
        "        elif f[-4:].lower()=='docx':\n",
        "            try:\n",
        "                Docs.append(docx2txt.process(f))\n",
        "            except:\n",
        "                print('error reading{0}'.format(f))\n",
        "        elif f[-3:].lower()=='csv':\n",
        "            Docs.append(pd.read_csv(f))\n",
        "        else:\n",
        "            print('Unsupported format {0}'.format(f))\n",
        "    if file:\n",
        "        Docs = Docs\n",
        "    return Docs, Files\n",
        "\n",
        "def LoadStopWords(lang, sentiment = True):\n",
        "    L = lang.lower().strip().split(':')\n",
        "    if sentiment:\n",
        "        if L == 'en' or L == 'english' or L == 'inggris':\n",
        "            lemmatizer = WordNetLemmatizer()\n",
        "            stops = set([t.strip().split(':') for t in LoadDocuments(file = '/content/UAS-Kapita-Selekta/text processing/stopword/20190327_stopword_id.txt')[0]])\n",
        "        elif L == 'in' or L == 'indonesia' or L == 'indonesian':\n",
        "            lemmatizer = Indonesian()\n",
        "            stops = set([t.strip().split(':') for t in LoadDocuments(file = '/content/UAS-Kapita-Selekta/text processing/stopword_noise/20190327_stopword_noise.txt')[0]])\n",
        "        else:\n",
        "            print('Warning! Languange not recognized. Empty stopword given')\n",
        "            stops = set(); lemmatizer = None\n",
        "    else:\n",
        "        if L == 'en' or L == 'english' or L == 'inggris':\n",
        "            lemmatizer = WordNetLemmatizer()\n",
        "            stops = set([t.strip().split(':') for t in LoadDocuments(file = '/content/UAS-Kapita-Selekta/text processing/stopword_en/20190327_stopwords_en.txt')[0]])\n",
        "        elif L == 'in' or L == 'indonesia' or L == 'indonesian':\n",
        "            lemmatizer = Indonesian()\n",
        "            stops = set([t.strip().split(':') for t in LoadDocuments(file = '/content/UAS-Kapita-Selekta/text processing/stopword/20190327_stopword_id.txt')[0]])\n",
        "        else:\n",
        "            print('Warning! Languange not recognized. Empty stopword given')\n",
        "            stops = set(); lemmatizer = None\n",
        "    return stops, lemmatizer"
      ]
    },
    {
      "cell_type": "code",
      "execution_count": null,
      "metadata": {
        "id": "pVCA_JDPZkbO"
      },
      "outputs": [],
      "source": [
        "def fixTags(T):\n",
        "    getHashtags = re.compile(r\"#(\\w+)\")\n",
        "    pisahtags = re.compile(r'[A-Z][^A-Z]*')\n",
        "    t = T\n",
        "    tagS = re.findall(getHashtags, T)\n",
        "    for tag in tagS:\n",
        "        proper_words = ' '.join(re.findall(pisahtags, tagS[0]))\n",
        "        t = t.replace('#'+tag, proper_words)\n",
        "    return t\n",
        "\n",
        "def cleanText(T, fix={}, pattern2 = False, lang = 'id', lemma=None, stops = set(), symbols_remove = False, numbers_remove = False, hashtag_remove = False, min_charLen = 0):\n",
        "    # lang & stopS only 2 options : 'en' atau 'id'\n",
        "    # symbols ASCII atau alnum\n",
        "    pattern = re.compile(r'http[s]?://(?:[a-zA-Z]|[0-9]|[$-_@.&+]|[!*\\(\\),]|(?:%[0-9a-fA-F][0-9a-fA-F]))+')\n",
        "    pattern1 = re.compile(r'pic.twitter.com/(?:[a-zA-Z]|[0-9]|[$-_@.&+]|[!*\\(\\),]|(?:%[0-9a-fA-F][0-9a-fA-F]))+')\n",
        "    if pattern2:\n",
        "        pattern2 = re.compile(r'@(?:[a-zA-Z]|[0-9]|[$-_@.&+]|[!*\\(\\),]|(?:%[0-9a-fA-F][0-9a-fA-F]))+') #remove@\n",
        "        t = re.sub(pattern2, ' ',T)\n",
        "    else:\n",
        "        t = T\n",
        "    t = re.sub(pattern,' ',t) #remove urls if any\n",
        "    t = re.sub(pattern1,' ',t)\n",
        "    t = unescape(t) # html entities fix\n",
        "    if hashtag_remove:\n",
        "        t = fixTags(t) # fix abcDef\n",
        "    else:\n",
        "        t = t\n",
        "    t = t.lower().strip() # lowercase\n",
        "    t = unidecode(t)\n",
        "    t = ''.join(''.join(s)[:2] for _, s in itertools.groupby(t)) # remove repetition\n",
        "    t = sent_tokenize(t) # sentence segmentation. String to list\n",
        "    for i, K in enumerate(t):\n",
        "        if symbols_remove:\n",
        "            K = re.sub(r'[^.,a-zA-Z0-9 \\n\\.]',' ',K)\n",
        "            K = K.replace(',',' ').replace('.',' ')\n",
        "            K = ''.join(c for c in K if c not in punctuation)\n",
        "            K = re.sub('\\s+',' ',K).strip()\n",
        "\n",
        "        if numbers_remove:\n",
        "            K = re.sub(r'[0-9]',' ',K)\n",
        "            K = re.sub('\\s+',' ',K)\n",
        "\n",
        "        cleanList = []\n",
        "        if lang =='en':\n",
        "            listKata = word_tokenize(K) # word tokenize\n",
        "            for token in listKata:\n",
        "                if token in fix.keys():\n",
        "                    token = fix[token]\n",
        "                if lemma:\n",
        "                    token = lemma.lemmatize(token)\n",
        "                if stops:\n",
        "                    if len(token)>=min_charLen and token not in stops:\n",
        "                        cleanList.append(token)\n",
        "                else:\n",
        "                    if len(token)>=min_charLen:\n",
        "                        cleanList.append(token)\n",
        "            t[i] = ' '.join(cleanList)\n",
        "        else:\n",
        "            if lemma:\n",
        "                K = lemma(K)\n",
        "                listKata = [token.text for token in K]\n",
        "            else:\n",
        "                listKata = TextBlob(K).words\n",
        "\n",
        "            for token in listKata:\n",
        "                if token in fix.keys():\n",
        "                    token = fix[token]\n",
        "\n",
        "                if lemma:\n",
        "                    token = lemma(token)[0].lemma_\n",
        "                    #token = stemmer.stem(token)\n",
        "                if stops:\n",
        "                    if len(token)>=min_charLen and token not in stops:\n",
        "                        cleanList.append(token)\n",
        "                else:\n",
        "                    if len(token)>=min_charLen:\n",
        "                        cleanList.append(token)\n",
        "            t[i] = ' '.join(cleanList).lstrip()\n",
        "    return ' '.join(t) # Return kalimat lagi\n",
        "\n",
        "def cleanText_(T, fix={}, min_charLen = 0):\n",
        "    t = T\n",
        "    t = t.lower().strip() # lowercase\n",
        "    t = unidecode(t)\n",
        "    t = ''.join(''.join(s)[:2] for _, s in itertools.groupby(t)) # remove repetition\n",
        "    t = sent_tokenize(t) # sentence segmentation. String to list\n",
        "    for i, K in enumerate(t):\n",
        "        cleanList = []\n",
        "        listKata = TextBlob(K).words\n",
        "        for token in listKata:\n",
        "            if token in fix.keys():\n",
        "                token = fix[token]\n",
        "                cleanList.append(token)\n",
        "            else:\n",
        "                if len(token)>=min_charLen:\n",
        "                    cleanList.append(token)\n",
        "        t[i] = ' '.join(cleanList).lstrip()\n",
        "    return ' '.join(t) # Return kalimat lagi\n",
        "\n",
        "def handlingnegation (text):\n",
        "    match = re.compile(r'(tidak|kurang|bukan|jangan|tapi|tetapi) (\\w+)').findall(text)\n",
        "    match = list(set(match))\n",
        "    for i,word in enumerate(match):\n",
        "        if ' '.join(match[i]) in text:\n",
        "            kata = text.replace(' '.join(match[i]), str(match[i][0])+' '+'negx'+str(match[i][1]))\n",
        "            text = kata\n",
        "    return text"
      ]
    },
    {
      "cell_type": "code",
      "execution_count": null,
      "metadata": {
        "id": "vszo7LkgYyZD"
      },
      "outputs": [],
      "source": [
        "def print_Topics(model, feature_names, Top_Topics, n_top_words):\n",
        "    for topic_idx, topic in enumerate(model.components_[:Top_Topics]):\n",
        "        print(\"Topic #%d:\" %(topic_idx+1))\n",
        "        print(\" \".join([feature_names[i]\n",
        "                        for i in topic.argsort()[:-n_top_words - 1:-1]]))\n",
        "\n",
        "def getTopics(Txt,n_topics=5, Top_Words=7):\n",
        "    #Txt = [t['nlp'] for t in Tweets] # cleaned: stopwords, stemming\n",
        "    tf_vectorizer = CountVectorizer(strip_accents = 'unicode', token_pattern = r'\\b[a-zA-Z]{3,}\\b', max_df = 0.95, min_df = 2)\n",
        "    dtm_tf = tf_vectorizer.fit_transform(Txt)\n",
        "    tf_terms = tf_vectorizer.get_feature_names()\n",
        "    lda_tf = LDA(n_components=n_topics, learning_method='online', random_state=0).fit(dtm_tf)\n",
        "    vsm_topics = lda_tf.transform(dtm_tf); doc_topic =  [a.argmax()+1 for a in tqdm(vsm_topics)] # topic of docs\n",
        "    print('In total there are {0} major topics, distributed as follows'.format(len(set(doc_topic))))\n",
        "    fig4 = plt.figure(); fig4.add_subplot(111)\n",
        "    plt.hist(np.array(doc_topic), alpha=0.5); plt.show()\n",
        "    print('Printing top {0} Topics, with top {1} Words:'.format(n_topics, Top_Words))\n",
        "    print_Topics(lda_tf, tf_terms, n_topics, Top_Words)\n",
        "    return lda_tf, dtm_tf, tf_vectorizer"
      ]
    },
    {
      "cell_type": "code",
      "execution_count": null,
      "metadata": {
        "id": "oHz5SaG3TmJ1"
      },
      "outputs": [],
      "source": [
        "def cleanningtext(data, both = True, onlyclean = False, sentiment = False):\n",
        "    print('Cleaning Text')\n",
        "    fSlang = '/content/UAS-Kapita-Selekta/text processing/slangword/20210315_slangword.txt'\n",
        "    bahasa = 'id'\n",
        "    stops, lemmatizer = LoadStopWords(bahasa, sentiment = False)\n",
        "    sw=open(fSlang,encoding='utf-8', errors ='ignore', mode='r');SlangS=sw.readlines();sw.close()\n",
        "    SlangS = {slang.strip().split(':')[0]:slang.strip().split(':')[1] for slang in SlangS}\n",
        "\n",
        "    start_time = time.time()\n",
        "    tqdm.pandas()\n",
        "\n",
        "    if both:\n",
        "        data['text'] = data['text'].astype('str')\n",
        "        data['text'] = data['text'].str.lower()\n",
        "        data = data[~data.text.str.contains('unavailable')]\n",
        "        data['cleaned_text'] = data['text'].progress_apply(lambda x : cleanText(x,fix=SlangS, pattern2 = True, lang = bahasa, lemma=lemmatizer, stops = stops, symbols_remove = True, numbers_remove = True, hashtag_remove=False, min_charLen = 2))\n",
        "        data['cleaned_text'] = data['cleaned_text'].progress_apply(lambda x : handlingnegation(x))\n",
        "        #data['cleaned_text'] = data['cleaned_text'].progress_apply(lambda x : tm.handlingporn(x))\n",
        "    elif onlyclean:\n",
        "        data['cleaned_text'] = data['text'].progress_apply(lambda x : cleanText(x, fix=SlangS, pattern2 = True, lang = bahasa, lemma=lemmatizer, stops = stops, symbols_remove = True, numbers_remove = True, hashtag_remove=False, min_charLen = 3))\n",
        "    else:\n",
        "        data['cleaned_text'] = data['text'].progress_apply(lambda x : handlingnegation(x))\n",
        "\n",
        "    data = data[data['cleaned_text'].notna()]\n",
        "    print(\"%s seconds\" %(time.time()-start_time))\n",
        "\n",
        "    return data"
      ]
    },
    {
      "cell_type": "code",
      "execution_count": null,
      "metadata": {
        "id": "if5v_XNzZyy-",
        "colab": {
          "base_uri": "https://localhost:8080/"
        },
        "outputId": "681f94aa-0749-4530-ed41-e7046f20c325"
      },
      "outputs": [
        {
          "output_type": "stream",
          "name": "stdout",
          "text": [
            "Cleaning Text\n",
            "Warning! Languange not recognized. Empty stopword given\n"
          ]
        },
        {
          "output_type": "stream",
          "name": "stderr",
          "text": [
            "100%|██████████| 14388/14388 [00:10<00:00, 1395.54it/s]\n",
            "100%|██████████| 14388/14388 [00:00<00:00, 181964.04it/s]"
          ]
        },
        {
          "output_type": "stream",
          "name": "stdout",
          "text": [
            "10.485780239105225 seconds\n"
          ]
        },
        {
          "output_type": "stream",
          "name": "stderr",
          "text": [
            "\n"
          ]
        }
      ],
      "source": [
        "dataFinal = cleanningtext(data = dataFinal, both = True, onlyclean = False, sentiment = False)"
      ]
    },
    {
      "cell_type": "code",
      "execution_count": null,
      "metadata": {
        "id": "6C_ocX7iZ8g7",
        "colab": {
          "base_uri": "https://localhost:8080/",
          "height": 206
        },
        "outputId": "6237163e-f61e-45e7-e717-37fd981facd0"
      },
      "outputs": [
        {
          "output_type": "execute_result",
          "data": {
            "text/html": [
              "<div>\n",
              "<style scoped>\n",
              "    .dataframe tbody tr th:only-of-type {\n",
              "        vertical-align: middle;\n",
              "    }\n",
              "\n",
              "    .dataframe tbody tr th {\n",
              "        vertical-align: top;\n",
              "    }\n",
              "\n",
              "    .dataframe thead th {\n",
              "        text-align: right;\n",
              "    }\n",
              "</style>\n",
              "<table border=\"1\" class=\"dataframe\">\n",
              "  <thead>\n",
              "    <tr style=\"text-align: right;\">\n",
              "      <th></th>\n",
              "      <th>cleaned_text</th>\n",
              "    </tr>\n",
              "  </thead>\n",
              "  <tbody>\n",
              "    <tr>\n",
              "      <th>14995</th>\n",
              "      <td>retweet di bawah pimpinan pak bumn gerak cepat...</td>\n",
              "    </tr>\n",
              "    <tr>\n",
              "      <th>14996</th>\n",
              "      <td>retweet kementerian bumn bergerak cepat member...</td>\n",
              "    </tr>\n",
              "    <tr>\n",
              "      <th>14997</th>\n",
              "      <td>retweet gunung semeru mengalami erupsi pada sa...</td>\n",
              "    </tr>\n",
              "    <tr>\n",
              "      <th>14998</th>\n",
              "      <td>panglima tni kirim ton bantuan ke warga terdam...</td>\n",
              "    </tr>\n",
              "    <tr>\n",
              "      <th>14999</th>\n",
              "      <td>retweet turut berduka cita untuk para korban l...</td>\n",
              "    </tr>\n",
              "  </tbody>\n",
              "</table>\n",
              "</div>"
            ],
            "text/plain": [
              "                                            cleaned_text\n",
              "14995  retweet di bawah pimpinan pak bumn gerak cepat...\n",
              "14996  retweet kementerian bumn bergerak cepat member...\n",
              "14997  retweet gunung semeru mengalami erupsi pada sa...\n",
              "14998  panglima tni kirim ton bantuan ke warga terdam...\n",
              "14999  retweet turut berduka cita untuk para korban l..."
            ]
          },
          "metadata": {},
          "execution_count": 44
        }
      ],
      "source": [
        "Result = dataFinal[['cleaned_text']]\n",
        "#Result.to_csv('/content/UAS-Kapita-Selekta/text processing/result.txt', index=False)\n",
        "Result.tail()"
      ]
    },
    {
      "cell_type": "markdown",
      "metadata": {
        "id": "VaYVIwcbTiiM"
      },
      "source": [
        "# Sentimen Analysis\n"
      ]
    },
    {
      "cell_type": "code",
      "execution_count": null,
      "metadata": {
        "id": "e8yBg0MYSg8X"
      },
      "outputs": [],
      "source": [
        "# Creating a funtion to get the subjectivity.\n",
        "def getSubjectivity(text):\n",
        "  return TextBlob(text).sentiment.subjectivity\n",
        "\n",
        "# Creating a function to get the polarity.\n",
        "def getPolarity(text):\n",
        "  return TextBlob(text).sentiment.polarity\n",
        "\n",
        "# Creating two columns to store subjectivity and polarity\n",
        "Result['Subjectivity'] = Result['cleaned_text'].apply(getSubjectivity)\n",
        "Result['Polarity'] = Result['cleaned_text'].apply(getPolarity)"
      ]
    },
    {
      "cell_type": "code",
      "execution_count": null,
      "metadata": {
        "colab": {
          "base_uri": "https://localhost:8080/",
          "height": 206
        },
        "id": "qjLaOFSbdZOO",
        "outputId": "49d00bd3-c497-45d4-d788-1963e60e078b"
      },
      "outputs": [
        {
          "output_type": "execute_result",
          "data": {
            "text/html": [
              "<div>\n",
              "<style scoped>\n",
              "    .dataframe tbody tr th:only-of-type {\n",
              "        vertical-align: middle;\n",
              "    }\n",
              "\n",
              "    .dataframe tbody tr th {\n",
              "        vertical-align: top;\n",
              "    }\n",
              "\n",
              "    .dataframe thead th {\n",
              "        text-align: right;\n",
              "    }\n",
              "</style>\n",
              "<table border=\"1\" class=\"dataframe\">\n",
              "  <thead>\n",
              "    <tr style=\"text-align: right;\">\n",
              "      <th></th>\n",
              "      <th>cleaned_text</th>\n",
              "      <th>Subjectivity</th>\n",
              "      <th>Polarity</th>\n",
              "      <th>Analysis</th>\n",
              "    </tr>\n",
              "  </thead>\n",
              "  <tbody>\n",
              "    <tr>\n",
              "      <th>0</th>\n",
              "      <td>retweet pagi ini saya meninjau lebih dekat sit...</td>\n",
              "      <td>0.0</td>\n",
              "      <td>0.0</td>\n",
              "      <td>Neutral</td>\n",
              "    </tr>\n",
              "    <tr>\n",
              "      <th>1</th>\n",
              "      <td>retweet innalillahi wa innailaihi rojiun bakti...</td>\n",
              "      <td>0.0</td>\n",
              "      <td>0.0</td>\n",
              "      <td>Neutral</td>\n",
              "    </tr>\n",
              "    <tr>\n",
              "      <th>2</th>\n",
              "      <td>retweet tawaf televisi guru dan murid di pales...</td>\n",
              "      <td>0.0</td>\n",
              "      <td>0.0</td>\n",
              "      <td>Neutral</td>\n",
              "    </tr>\n",
              "    <tr>\n",
              "      <th>3</th>\n",
              "      <td>retweet polri gelar operasi kemanusiaan aman n...</td>\n",
              "      <td>0.0</td>\n",
              "      <td>0.0</td>\n",
              "      <td>Neutral</td>\n",
              "    </tr>\n",
              "    <tr>\n",
              "      <th>4</th>\n",
              "      <td>bansertanggapbencana satkorcab banser kabupate...</td>\n",
              "      <td>0.0</td>\n",
              "      <td>0.0</td>\n",
              "      <td>Neutral</td>\n",
              "    </tr>\n",
              "  </tbody>\n",
              "</table>\n",
              "</div>"
            ],
            "text/plain": [
              "                                        cleaned_text  ...  Analysis\n",
              "0  retweet pagi ini saya meninjau lebih dekat sit...  ...   Neutral\n",
              "1  retweet innalillahi wa innailaihi rojiun bakti...  ...   Neutral\n",
              "2  retweet tawaf televisi guru dan murid di pales...  ...   Neutral\n",
              "3  retweet polri gelar operasi kemanusiaan aman n...  ...   Neutral\n",
              "4  bansertanggapbencana satkorcab banser kabupate...  ...   Neutral\n",
              "\n",
              "[5 rows x 4 columns]"
            ]
          },
          "metadata": {},
          "execution_count": 40
        }
      ],
      "source": [
        "# Deciding whether the text is +ve (+1), neutral (0) or -ve (-1)\n",
        "def getAnalysis(score):\n",
        "  if score < 0:\n",
        "    return 'Negative'\n",
        "  elif score == 0:\n",
        "    return 'Neutral'\n",
        "  else:\n",
        "    return 'Positive'\n",
        "\n",
        "Result['Analysis'] = Result['Polarity'].apply(getAnalysis)\n",
        "Result.head()"
      ]
    },
    {
      "cell_type": "markdown",
      "metadata": {
        "id": "21w25s8yRoaN"
      },
      "source": [
        "# Visualisasi"
      ]
    },
    {
      "cell_type": "markdown",
      "metadata": {
        "id": "81ws46FJ0nF9"
      },
      "source": [
        "## Voyant Tools"
      ]
    },
    {
      "cell_type": "markdown",
      "metadata": {
        "id": "SjpEDtOO1eDy"
      },
      "source": [
        "1. Wordcloud\n",
        "\n",
        "![Screenshot (505).png](data:image/png;base64,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)"
      ]
    },
    {
      "cell_type": "markdown",
      "metadata": {
        "id": "bIIMBSoW4OvJ"
      },
      "source": [
        "2. Tren\n",
        "\n",
        "![Screenshot (504).png](data:image/png;base64,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)"
      ]
    },
    {
      "cell_type": "markdown",
      "metadata": {
        "id": "iDtYryM-Fhcm"
      },
      "source": [
        "\n",
        "\n",
        "> **Keterangan :**\n",
        "\n",
        "\n",
        "erupsi = 12557\n",
        "\n",
        "semeru = 8804\n",
        "\n",
        "gunung = 6743\n",
        "\n",
        "merapi = 2485"
      ]
    },
    {
      "cell_type": "markdown",
      "metadata": {
        "id": "z8f9ZmwB5iEk"
      },
      "source": [
        "## Sentiment Analysis\n",
        "\n",
        "*Sentiment* *analysis* adalah proses mendeteksi sentimen positif atau negatif dalam sebuah teks. Teknik ini sering digunakan oleh bisnis untuk mendeteksi sentimen pada data sosial, mengukur reputasi brand tersebut, dan juga untuk memahami pelanggan.\n",
        "\n",
        "sumber : [Apa Itu Sentiment Analysis?](https://www.wartaekonomi.co.id/read351541/apa-itu-sentiment-analysis)"
      ]
    },
    {
      "cell_type": "code",
      "execution_count": null,
      "metadata": {
        "colab": {
          "base_uri": "https://localhost:8080/",
          "height": 341
        },
        "id": "qJNXbhH_Rr6e",
        "outputId": "e0e30bf8-2c94-48fc-efbc-293978c72472"
      },
      "outputs": [
        {
          "output_type": "display_data",
          "data": {
            "image/png": "[encoded data removed]",
            "text/plain": [
              "<Figure size 432x288 with 1 Axes>"
            ]
          },
          "metadata": {
            "needs_background": "light"
          }
        }
      ],
      "source": [
        "plt.title('Twitter Sentiment Analysis')\n",
        "plt.xlabel('Sentiment')\n",
        "plt.ylabel('Count')\n",
        "Result['Analysis'].value_counts().plot(kind='bar')\n",
        "plt.show()"
      ]
    },
    {
      "cell_type": "code",
      "source": [
        "Result['Analysis'].value_counts()"
      ],
      "metadata": {
        "colab": {
          "base_uri": "https://localhost:8080/"
        },
        "id": "qFKTSjWrvOQ_",
        "outputId": "6f5d7240-7138-48b7-f9b8-9fb3f7c5c6aa"
      },
      "execution_count": null,
      "outputs": [
        {
          "output_type": "execute_result",
          "data": {
            "text/plain": [
              "Neutral     14283\n",
              "Positive       94\n",
              "Negative       11\n",
              "Name: Analysis, dtype: int64"
            ]
          },
          "metadata": {},
          "execution_count": 42
        }
      ]
    },
    {
      "cell_type": "markdown",
      "source": [
        "Keterangan :\n",
        "> Dalam kasus ini tweet didominasi dengan sifat tweet netral lebih dari 14 ribu tweet\n",
        "\n",
        "> Walau yang mendominasi adalah tweet yang bersifat netral tetapi terdapat positive tweet sebanyak 94 dan 11 bersifat negative tweet"
      ],
      "metadata": {
        "id": "jMHtd8ZAuImi"
      }
    },
    {
      "cell_type": "markdown",
      "source": [
        "## Twitter sent by source"
      ],
      "metadata": {
        "id": "0XnDAdLFKYlL"
      }
    },
    {
      "cell_type": "code",
      "execution_count": null,
      "metadata": {
        "id": "819IRkMSTlKC"
      },
      "outputs": [],
      "source": [
        "# first extracting the client name including the >< characters\n",
        "for source in dataFinal['source']:\n",
        "    dataFinal['source'] = dataFinal['source'].str.extract('(\\>.*\\<)', expand=False) #output example: '>Twitter for Android<'\n",
        "\n",
        "# after that extracting only the letters\n",
        "for source in data1['source']:\n",
        "    dataFinal['source'] = dataFinal['source'].str.extract('([a-zA-Z ]+)', expand=False) #output example: 'Twitter for Android'"
      ]
    },
    {
      "cell_type": "code",
      "execution_count": null,
      "metadata": {
        "colab": {
          "base_uri": "https://localhost:8080/",
          "height": 451
        },
        "id": "pFUFwUzGBQbG",
        "outputId": "c7eac3ab-9756-4363-dcb0-c8af3f285659"
      },
      "outputs": [
        {
          "output_type": "execute_result",
          "data": {
            "text/plain": [
              "Text(0.5, 1.0, 'Tweets sent by source')"
            ]
          },
          "metadata": {},
          "execution_count": 45
        },
        {
          "output_type": "display_data",
          "data": {
            "image/png": "[encoded data removed]",
            "text/plain": [
              "<Figure size 720x360 with 1 Axes>"
            ]
          },
          "metadata": {
            "needs_background": "light"
          }
        }
      ],
      "source": [
        "# Plot\n",
        "plt.figure(figsize=(10,5))\n",
        "sns.countplot(x='source', data=dataFinal, palette = 'Blues_r' , order = dataFinal['source'].value_counts().index)\n",
        "plt.xticks(rotation=45, fontsize='11', horizontalalignment='right')\n",
        "plt.ylabel('Total tweets sent')\n",
        "plt.title('Tweets sent by source')"
      ]
    },
    {
      "cell_type": "markdown",
      "source": [
        "Keterangan:\n",
        "> Jumlah pengguna twitter paling banyak dalam kasus ini menggunakan twitter for Android dengan jumlah lebih dari 10 ribu pengguna"
      ],
      "metadata": {
        "id": "N1yOJf6tanar"
      }
    },
    {
      "cell_type": "markdown",
      "source": [
        "## Twitter send by username"
      ],
      "metadata": {
        "id": "rz4FhguMwDwa"
      }
    },
    {
      "cell_type": "code",
      "source": [
        "most_tweet =dataFinal['screen_name'].value_counts()\n",
        "treshold = 50\n",
        "maks = most_tweet > treshold\n",
        "tail_most_tweet = most_tweet.loc[~maks].sum()\n",
        "most_tweet = most_tweet.loc[maks]\n",
        "most_tweet.plot(kind='bar')\n",
        "plt.xticks(rotation=25)\n",
        "plt.ylabel('Total tweets sent')\n",
        "plt.title('Tweets sent by username')\n",
        "plt.show()"
      ],
      "metadata": {
        "colab": {
          "base_uri": "https://localhost:8080/",
          "height": 319
        },
        "id": "qVyc8Jk5M7RQ",
        "outputId": "c3bf8465-0322-4c3a-d588-4bddf58825f0"
      },
      "execution_count": null,
      "outputs": [
        {
          "output_type": "display_data",
          "data": {
            "image/png": "[encoded data removed]",
            "text/plain": [
              "<Figure size 432x288 with 1 Axes>"
            ]
          },
          "metadata": {
            "needs_background": "light"
          }
        }
      ]
    },
    {
      "cell_type": "code",
      "source": [
        "most_tweet"
      ],
      "metadata": {
        "colab": {
          "base_uri": "https://localhost:8080/"
        },
        "id": "k0x_v2DNwJwc",
        "outputId": "ea3c758a-2b2f-4572-a7e4-8e2591f74fa7"
      },
      "execution_count": null,
      "outputs": [
        {
          "output_type": "execute_result",
          "data": {
            "text/plain": [
              "petabencana      350\n",
              "denni_sauya      134\n",
              "JembzCoeey2       67\n",
              "ByruBima          66\n",
              "misshani96        64\n",
              "RoyMNasution3     61\n",
              "RiantiDiani       59\n",
              "Mad_alyana        55\n",
              "Name: screen_name, dtype: int64"
            ]
          },
          "metadata": {},
          "execution_count": 47
        }
      ]
    },
    {
      "cell_type": "markdown",
      "source": [
        "## Verified User"
      ],
      "metadata": {
        "id": "hdv3_PlpwVOS"
      }
    },
    {
      "cell_type": "code",
      "source": [
        "# verified user\n",
        "plt.title('Verified User')\n",
        "plt.xlabel('Total User')\n",
        "plt.ylabel('Count')\n",
        "dataFinal['verified'].value_counts().plot(kind='bar')\n",
        "plt.show()"
      ],
      "metadata": {
        "colab": {
          "base_uri": "https://localhost:8080/",
          "height": 319
        },
        "id": "xq5UeDsQPVh0",
        "outputId": "1cba2f1f-8e5e-4e66-c84e-a8eb84a1638f"
      },
      "execution_count": null,
      "outputs": [
        {
          "output_type": "display_data",
          "data": {
            "image/png": "[encoded data removed]",
            "text/plain": [
              "<Figure size 432x288 with 1 Axes>"
            ]
          },
          "metadata": {
            "needs_background": "light"
          }
        }
      ]
    },
    {
      "cell_type": "code",
      "source": [
        "dataFinal['verified'].value_counts()"
      ],
      "metadata": {
        "colab": {
          "base_uri": "https://localhost:8080/"
        },
        "id": "Z7VquKXBwaau",
        "outputId": "db1c3469-45b0-4fda-d5e1-9095169a562f"
      },
      "execution_count": null,
      "outputs": [
        {
          "output_type": "execute_result",
          "data": {
            "text/plain": [
              "False    13823\n",
              "True       565\n",
              "Name: verified, dtype: int64"
            ]
          },
          "metadata": {},
          "execution_count": 49
        }
      ]
    },
    {
      "cell_type": "markdown",
      "source": [
        "Keterangan :\n",
        "> Dalam data tersebut False dimaksudkan adalah akun pengguna tanpa verified dan True dimaksudkan akun pengguna dengan verified\n",
        "\n",
        "*   Akun verified dalam kasus ini sebanyak 565 akun\n",
        "*   Dan akun tanpa verified lebih dari 13 ribu akun\n",
        "\n"
      ],
      "metadata": {
        "id": "1G8pjOWX3OKl"
      }
    },
    {
      "cell_type": "markdown",
      "source": [
        "## Panjang rata-rata tweet"
      ],
      "metadata": {
        "id": "rbW9D4wc39F8"
      }
    },
    {
      "cell_type": "code",
      "source": [
        "len_tweet = dataFinal['text'].str.len()\n",
        "len_tweet.mean()"
      ],
      "metadata": {
        "colab": {
          "base_uri": "https://localhost:8080/"
        },
        "id": "0Z9j_FUF3y_y",
        "outputId": "acf3ae98-e21e-49bb-8989-4f409f9fcf97"
      },
      "execution_count": null,
      "outputs": [
        {
          "output_type": "execute_result",
          "data": {
            "text/plain": [
              "145.42806505421186"
            ]
          },
          "metadata": {},
          "execution_count": 50
        }
      ]
    },
    {
      "cell_type": "markdown",
      "source": [
        "## Likes Terbanyak"
      ],
      "metadata": {
        "id": "GNiaKZu7OJ6x"
      }
    },
    {
      "cell_type": "code",
      "source": [
        "dataFinal.nlargest(3, 'favorite_count')"
      ],
      "metadata": {
        "id": "u3spgn8iPEVy",
        "colab": {
          "base_uri": "https://localhost:8080/",
          "height": 424
        },
        "outputId": "52a3333f-4ef6-488c-96df-e1c5177e3ece"
      },
      "execution_count": null,
      "outputs": [
        {
          "output_type": "execute_result",
          "data": {
            "text/html": [
              "<div>\n",
              "<style scoped>\n",
              "    .dataframe tbody tr th:only-of-type {\n",
              "        vertical-align: middle;\n",
              "    }\n",
              "\n",
              "    .dataframe tbody tr th {\n",
              "        vertical-align: top;\n",
              "    }\n",
              "\n",
              "    .dataframe thead th {\n",
              "        text-align: right;\n",
              "    }\n",
              "</style>\n",
              "<table border=\"1\" class=\"dataframe\">\n",
              "  <thead>\n",
              "    <tr style=\"text-align: right;\">\n",
              "      <th></th>\n",
              "      <th>created_at</th>\n",
              "      <th>id</th>\n",
              "      <th>id_str</th>\n",
              "      <th>text</th>\n",
              "      <th>source</th>\n",
              "      <th>in_reply_to_status_id</th>\n",
              "      <th>in_reply_to_status_id_str</th>\n",
              "      <th>in_reply_to_user_id</th>\n",
              "      <th>in_reply_to_user_id_str</th>\n",
              "      <th>in_reply_to_screen_name</th>\n",
              "      <th>geo</th>\n",
              "      <th>retweet_count</th>\n",
              "      <th>favorite_count</th>\n",
              "      <th>lang</th>\n",
              "      <th>name</th>\n",
              "      <th>screen_name</th>\n",
              "      <th>location</th>\n",
              "      <th>verified</th>\n",
              "      <th>followers_count</th>\n",
              "      <th>friends_count</th>\n",
              "      <th>cleaned_text</th>\n",
              "    </tr>\n",
              "  </thead>\n",
              "  <tbody>\n",
              "    <tr>\n",
              "      <th>9431</th>\n",
              "      <td>2021-12-04 13:52:35+00:00</td>\n",
              "      <td>1467129708097650693</td>\n",
              "      <td>1467129708097650688</td>\n",
              "      <td>sebagai anak yang lahir di lereng merapi. erup...</td>\n",
              "      <td>Twitter Web App</td>\n",
              "      <td>NaN</td>\n",
              "      <td>NaN</td>\n",
              "      <td>NaN</td>\n",
              "      <td>NaN</td>\n",
              "      <td>None</td>\n",
              "      <td>NaN</td>\n",
              "      <td>2665</td>\n",
              "      <td>6552</td>\n",
              "      <td>in</td>\n",
              "      <td>Brigata Curva Sud</td>\n",
              "      <td>BCSxPSS_1976</td>\n",
              "      <td>Sleman, Yogyakarta</td>\n",
              "      <td>False</td>\n",
              "      <td>334982</td>\n",
              "      <td>534</td>\n",
              "      <td>sebagai anak yang lahir di lereng merapi erups...</td>\n",
              "    </tr>\n",
              "    <tr>\n",
              "      <th>5557</th>\n",
              "      <td>2021-12-06 10:23:43+00:00</td>\n",
              "      <td>1467801921473839105</td>\n",
              "      <td>1467801921473839104</td>\n",
              "      <td>update erupsi gunung semeru, hujan abu turun l...</td>\n",
              "      <td>Twitter for Android</td>\n",
              "      <td>NaN</td>\n",
              "      <td>NaN</td>\n",
              "      <td>NaN</td>\n",
              "      <td>NaN</td>\n",
              "      <td>None</td>\n",
              "      <td>NaN</td>\n",
              "      <td>107</td>\n",
              "      <td>580</td>\n",
              "      <td>in</td>\n",
              "      <td>IG: Merapi_Uncover</td>\n",
              "      <td>merapi_uncover</td>\n",
              "      <td>Yogyakarta, Indonesia</td>\n",
              "      <td>False</td>\n",
              "      <td>70435</td>\n",
              "      <td>951</td>\n",
              "      <td>update erupsi gunung semeru hujan abu turun la...</td>\n",
              "    </tr>\n",
              "    <tr>\n",
              "      <th>7871</th>\n",
              "      <td>2021-12-04 16:00:26+00:00</td>\n",
              "      <td>1467161883157286912</td>\n",
              "      <td>1467161883157286912</td>\n",
              "      <td>erupsi semeru ...\\nsemeru lagi punya gawe, sep...</td>\n",
              "      <td>Twitter for Android</td>\n",
              "      <td>NaN</td>\n",
              "      <td>NaN</td>\n",
              "      <td>NaN</td>\n",
              "      <td>NaN</td>\n",
              "      <td>None</td>\n",
              "      <td>NaN</td>\n",
              "      <td>81</td>\n",
              "      <td>527</td>\n",
              "      <td>in</td>\n",
              "      <td>✩Bebeb Bubu🍭</td>\n",
              "      <td>NyaiiBubu</td>\n",
              "      <td>Lor Gapura RW</td>\n",
              "      <td>False</td>\n",
              "      <td>9998</td>\n",
              "      <td>5993</td>\n",
              "      <td>erupsi semeru semeru lagi punya gawe seperti h...</td>\n",
              "    </tr>\n",
              "  </tbody>\n",
              "</table>\n",
              "</div>"
            ],
            "text/plain": [
              "                    created_at  ...                                       cleaned_text\n",
              "9431 2021-12-04 13:52:35+00:00  ...  sebagai anak yang lahir di lereng merapi erups...\n",
              "5557 2021-12-06 10:23:43+00:00  ...  update erupsi gunung semeru hujan abu turun la...\n",
              "7871 2021-12-04 16:00:26+00:00  ...  erupsi semeru semeru lagi punya gawe seperti h...\n",
              "\n",
              "[3 rows x 21 columns]"
            ]
          },
          "metadata": {},
          "execution_count": 51
        }
      ]
    },
    {
      "cell_type": "code",
      "source": [
        "print(\"Tweet dengan likes terbanyak\")\n",
        "print(\"name :\", dataFinal['name'][9431])\n",
        "print(\"Username :\", dataFinal['screen_name'][9431])\n",
        "print(\"Tweet :\", dataFinal['text'][9431])"
      ],
      "metadata": {
        "id": "Qe6Sd7MYPEfw",
        "colab": {
          "base_uri": "https://localhost:8080/"
        },
        "outputId": "aafee47c-dc02-4b17-ab2d-2da54472da93"
      },
      "execution_count": null,
      "outputs": [
        {
          "output_type": "stream",
          "name": "stdout",
          "text": [
            "Tweet dengan likes terbanyak\n",
            "name : Brigata Curva Sud\n",
            "Username : BCSxPSS_1976\n",
            "Tweet : sebagai anak yang lahir di lereng merapi. erupsi adalah persitiwa yang tak bisa terhindarkan.\n",
            "\n",
            "kami mengajak seluruh keluarga besar bcs dan sleman fans untuk turun ambil bagian dalam donasi bagi saudara yang terdampak oleh erupsi gunung semeru. https://t.co/9lblgkslvd\n"
          ]
        }
      ]
    },
    {
      "cell_type": "markdown",
      "source": [
        "## Retweet terbanyak"
      ],
      "metadata": {
        "id": "urwxgUKbPsDR"
      }
    },
    {
      "cell_type": "code",
      "source": [
        "dataFinal.nlargest(3, 'retweet_count')"
      ],
      "metadata": {
        "colab": {
          "base_uri": "https://localhost:8080/",
          "height": 372
        },
        "id": "zXhMswenPlWn",
        "outputId": "f097d905-9251-45ff-8e44-dd401105391c"
      },
      "execution_count": null,
      "outputs": [
        {
          "output_type": "execute_result",
          "data": {
            "text/html": [
              "<div>\n",
              "<style scoped>\n",
              "    .dataframe tbody tr th:only-of-type {\n",
              "        vertical-align: middle;\n",
              "    }\n",
              "\n",
              "    .dataframe tbody tr th {\n",
              "        vertical-align: top;\n",
              "    }\n",
              "\n",
              "    .dataframe thead th {\n",
              "        text-align: right;\n",
              "    }\n",
              "</style>\n",
              "<table border=\"1\" class=\"dataframe\">\n",
              "  <thead>\n",
              "    <tr style=\"text-align: right;\">\n",
              "      <th></th>\n",
              "      <th>created_at</th>\n",
              "      <th>id</th>\n",
              "      <th>id_str</th>\n",
              "      <th>text</th>\n",
              "      <th>source</th>\n",
              "      <th>in_reply_to_status_id</th>\n",
              "      <th>in_reply_to_status_id_str</th>\n",
              "      <th>in_reply_to_user_id</th>\n",
              "      <th>in_reply_to_user_id_str</th>\n",
              "      <th>in_reply_to_screen_name</th>\n",
              "      <th>geo</th>\n",
              "      <th>retweet_count</th>\n",
              "      <th>favorite_count</th>\n",
              "      <th>lang</th>\n",
              "      <th>name</th>\n",
              "      <th>screen_name</th>\n",
              "      <th>location</th>\n",
              "      <th>verified</th>\n",
              "      <th>followers_count</th>\n",
              "      <th>friends_count</th>\n",
              "      <th>cleaned_text</th>\n",
              "    </tr>\n",
              "  </thead>\n",
              "  <tbody>\n",
              "    <tr>\n",
              "      <th>4857</th>\n",
              "      <td>2021-12-07 11:00:37+00:00</td>\n",
              "      <td>1468173595910148101</td>\n",
              "      <td>1468173595910148096</td>\n",
              "      <td>rt @widassatyo: al fatihah buat mbak rumini yg...</td>\n",
              "      <td>Twitter for Android</td>\n",
              "      <td>NaN</td>\n",
              "      <td>NaN</td>\n",
              "      <td>NaN</td>\n",
              "      <td>NaN</td>\n",
              "      <td>None</td>\n",
              "      <td>NaN</td>\n",
              "      <td>14569</td>\n",
              "      <td>0</td>\n",
              "      <td>in</td>\n",
              "      <td>ꪖ.𝖈𝖆𝖈𝖆ꪶ</td>\n",
              "      <td>bubblebeq</td>\n",
              "      <td></td>\n",
              "      <td>False</td>\n",
              "      <td>166</td>\n",
              "      <td>293</td>\n",
              "      <td>retweet al fatihah buat mbak rumini yang memil...</td>\n",
              "    </tr>\n",
              "    <tr>\n",
              "      <th>4858</th>\n",
              "      <td>2021-12-07 11:00:34+00:00</td>\n",
              "      <td>1468173583188774913</td>\n",
              "      <td>1468173583188774912</td>\n",
              "      <td>rt @widassatyo: al fatihah buat mbak rumini yg...</td>\n",
              "      <td>Twitter for Android</td>\n",
              "      <td>NaN</td>\n",
              "      <td>NaN</td>\n",
              "      <td>NaN</td>\n",
              "      <td>NaN</td>\n",
              "      <td>None</td>\n",
              "      <td>NaN</td>\n",
              "      <td>14569</td>\n",
              "      <td>0</td>\n",
              "      <td>in</td>\n",
              "      <td>jayahmad</td>\n",
              "      <td>jayadiningrat77</td>\n",
              "      <td>Depok, Indonesia</td>\n",
              "      <td>False</td>\n",
              "      <td>1879</td>\n",
              "      <td>224</td>\n",
              "      <td>retweet al fatihah buat mbak rumini yang memil...</td>\n",
              "    </tr>\n",
              "    <tr>\n",
              "      <th>4861</th>\n",
              "      <td>2021-12-07 11:00:32+00:00</td>\n",
              "      <td>1468173575655882757</td>\n",
              "      <td>1468173575655882752</td>\n",
              "      <td>rt @widassatyo: al fatihah buat mbak rumini yg...</td>\n",
              "      <td>Twitter for Android</td>\n",
              "      <td>NaN</td>\n",
              "      <td>NaN</td>\n",
              "      <td>NaN</td>\n",
              "      <td>NaN</td>\n",
              "      <td>None</td>\n",
              "      <td>NaN</td>\n",
              "      <td>14569</td>\n",
              "      <td>0</td>\n",
              "      <td>in</td>\n",
              "      <td>star</td>\n",
              "      <td>jesvykiev</td>\n",
              "      <td></td>\n",
              "      <td>False</td>\n",
              "      <td>288</td>\n",
              "      <td>350</td>\n",
              "      <td>retweet al fatihah buat mbak rumini yang memil...</td>\n",
              "    </tr>\n",
              "  </tbody>\n",
              "</table>\n",
              "</div>"
            ],
            "text/plain": [
              "                    created_at  ...                                       cleaned_text\n",
              "4857 2021-12-07 11:00:37+00:00  ...  retweet al fatihah buat mbak rumini yang memil...\n",
              "4858 2021-12-07 11:00:34+00:00  ...  retweet al fatihah buat mbak rumini yang memil...\n",
              "4861 2021-12-07 11:00:32+00:00  ...  retweet al fatihah buat mbak rumini yang memil...\n",
              "\n",
              "[3 rows x 21 columns]"
            ]
          },
          "metadata": {},
          "execution_count": 53
        }
      ]
    },
    {
      "cell_type": "code",
      "source": [
        "print(\"Tweet dengan retweets terbanyak\")\n",
        "print(\"name :\", dataFinal['name'][4857])\n",
        "print(\"Username :\", dataFinal['screen_name'][4857])\n",
        "print(\"Tweet :\", dataFinal['text'][4857])"
      ],
      "metadata": {
        "colab": {
          "base_uri": "https://localhost:8080/"
        },
        "id": "FLVmrzrlQPfN",
        "outputId": "81f5c620-529f-422b-da74-5a31bd64af58"
      },
      "execution_count": null,
      "outputs": [
        {
          "output_type": "stream",
          "name": "stdout",
          "text": [
            "Tweet dengan retweets terbanyak\n",
            "name : ꪖ.𝖈𝖆𝖈𝖆ꪶ\n",
            "Username : bubblebeq\n",
            "Tweet : rt @widassatyo: al fatihah buat mbak rumini yg memilih bertahan dan menemani ibunya saat erupsi semeru terjadi. keduanya ditemukan wafat da…\n"
          ]
        }
      ]
    },
    {
      "cell_type": "markdown",
      "source": [
        "## Jenis Tweet (Tweet, reply, retweet)"
      ],
      "metadata": {
        "id": "rFpfrKL-SsgK"
      }
    },
    {
      "cell_type": "code",
      "source": [
        "float_cols = list(dataFinal.select_dtypes(include=['float']).columns.values)\n",
        "print(float_cols)"
      ],
      "metadata": {
        "colab": {
          "base_uri": "https://localhost:8080/"
        },
        "id": "LEnmdYmwTx45",
        "outputId": "923bb9f0-d36b-405f-ad2f-37ac6894c6e2"
      },
      "execution_count": null,
      "outputs": [
        {
          "output_type": "stream",
          "name": "stdout",
          "text": [
            "['in_reply_to_status_id', 'in_reply_to_status_id_str', 'in_reply_to_user_id', 'in_reply_to_user_id_str', 'geo']\n"
          ]
        }
      ]
    },
    {
      "cell_type": "code",
      "source": [
        "# fill Nan's for all float types\n",
        "dataFinal[float_cols] = dataFinal[float_cols].fillna(0)\n",
        "\n",
        "# convert float_cols to int\n",
        "dataFinal[float_cols] = dataFinal[float_cols].astype(int)\n",
        "\n",
        "# convert timestamp column to datetime type\n",
        "dataFinal['created_at'] = pd.to_datetime(dataFinal['created_at'])"
      ],
      "metadata": {
        "id": "Zxz2GhgtT1xE"
      },
      "execution_count": null,
      "outputs": []
    },
    {
      "cell_type": "code",
      "source": [
        "# check tweets which have NaN for in_reply_to_status_id but not for in_reply_to_user_id\n",
        "dataFinal[(dataFinal['in_reply_to_status_id'] == 0) & (dataFinal['in_reply_to_user_id'] != 0)].head()"
      ],
      "metadata": {
        "colab": {
          "base_uri": "https://localhost:8080/",
          "height": 539
        },
        "id": "mgzprrSGT7cl",
        "outputId": "870da5b7-8202-4c85-90d9-89bb558907e6"
      },
      "execution_count": null,
      "outputs": [
        {
          "output_type": "execute_result",
          "data": {
            "text/html": [
              "<div>\n",
              "<style scoped>\n",
              "    .dataframe tbody tr th:only-of-type {\n",
              "        vertical-align: middle;\n",
              "    }\n",
              "\n",
              "    .dataframe tbody tr th {\n",
              "        vertical-align: top;\n",
              "    }\n",
              "\n",
              "    .dataframe thead th {\n",
              "        text-align: right;\n",
              "    }\n",
              "</style>\n",
              "<table border=\"1\" class=\"dataframe\">\n",
              "  <thead>\n",
              "    <tr style=\"text-align: right;\">\n",
              "      <th></th>\n",
              "      <th>created_at</th>\n",
              "      <th>id</th>\n",
              "      <th>id_str</th>\n",
              "      <th>text</th>\n",
              "      <th>source</th>\n",
              "      <th>in_reply_to_status_id</th>\n",
              "      <th>in_reply_to_status_id_str</th>\n",
              "      <th>in_reply_to_user_id</th>\n",
              "      <th>in_reply_to_user_id_str</th>\n",
              "      <th>in_reply_to_screen_name</th>\n",
              "      <th>geo</th>\n",
              "      <th>retweet_count</th>\n",
              "      <th>favorite_count</th>\n",
              "      <th>lang</th>\n",
              "      <th>name</th>\n",
              "      <th>screen_name</th>\n",
              "      <th>location</th>\n",
              "      <th>verified</th>\n",
              "      <th>followers_count</th>\n",
              "      <th>friends_count</th>\n",
              "      <th>cleaned_text</th>\n",
              "    </tr>\n",
              "  </thead>\n",
              "  <tbody>\n",
              "    <tr>\n",
              "      <th>2318</th>\n",
              "      <td>2021-12-07 11:52:29+00:00</td>\n",
              "      <td>1468186651402797057</td>\n",
              "      <td>1468186651402797056</td>\n",
              "      <td>@eruzaside ni penipu jangan2 mati dah kena eru...</td>\n",
              "      <td>Twitter for Android</td>\n",
              "      <td>0</td>\n",
              "      <td>0</td>\n",
              "      <td>1349836626717937664</td>\n",
              "      <td>1349836626717937664</td>\n",
              "      <td>EruzaSide</td>\n",
              "      <td>0</td>\n",
              "      <td>0</td>\n",
              "      <td>0</td>\n",
              "      <td>in</td>\n",
              "      <td>DIME🌻💎🐥</td>\n",
              "      <td>reallllldime</td>\n",
              "      <td>Indonesia! | South Sulawesi</td>\n",
              "      <td>False</td>\n",
              "      <td>295</td>\n",
              "      <td>208</td>\n",
              "      <td>ini penipu jangan negxmati dah kena erupsi gun...</td>\n",
              "    </tr>\n",
              "    <tr>\n",
              "      <th>2967</th>\n",
              "      <td>2021-12-07 11:39:26+00:00</td>\n",
              "      <td>1468183365970915331</td>\n",
              "      <td>1468183365970915328</td>\n",
              "      <td>@jokowi dateng ke semeru gak tanggung2 langsun...</td>\n",
              "      <td>Twitter for Android</td>\n",
              "      <td>0</td>\n",
              "      <td>0</td>\n",
              "      <td>366987179</td>\n",
              "      <td>366987179</td>\n",
              "      <td>jokowi</td>\n",
              "      <td>0</td>\n",
              "      <td>8</td>\n",
              "      <td>8</td>\n",
              "      <td>in</td>\n",
              "      <td>Centang Biru ●╰╮✾🅐🅗✾╭╯●</td>\n",
              "      <td>carepucuk</td>\n",
              "      <td>Home Sweet Home</td>\n",
              "      <td>False</td>\n",
              "      <td>509</td>\n",
              "      <td>633</td>\n",
              "      <td>datang ke semeru tidak negxtanggung langsung k...</td>\n",
              "    </tr>\n",
              "    <tr>\n",
              "      <th>4486</th>\n",
              "      <td>2021-12-07 11:08:14+00:00</td>\n",
              "      <td>1468175513952800769</td>\n",
              "      <td>1468175513952800768</td>\n",
              "      <td>@jokowi  tiba di lumajang, jawa timur, setelah...</td>\n",
              "      <td>Twitter for Android</td>\n",
              "      <td>0</td>\n",
              "      <td>0</td>\n",
              "      <td>366987179</td>\n",
              "      <td>366987179</td>\n",
              "      <td>jokowi</td>\n",
              "      <td>0</td>\n",
              "      <td>3</td>\n",
              "      <td>5</td>\n",
              "      <td>in</td>\n",
              "      <td>Lady Cebrinx</td>\n",
              "      <td>bringas3006</td>\n",
              "      <td>Indonesia</td>\n",
              "      <td>False</td>\n",
              "      <td>10165</td>\n",
              "      <td>736</td>\n",
              "      <td>tiba di lumajang jawa timur setelah menempuh p...</td>\n",
              "    </tr>\n",
              "    <tr>\n",
              "      <th>5286</th>\n",
              "      <td>2021-12-07 03:07:00+00:00</td>\n",
              "      <td>1468054406490779648</td>\n",
              "      <td>1468054406490779648</td>\n",
              "      <td>@humaspoldajatim personil subdit dalmas ditsam...</td>\n",
              "      <td>Twitter for Android</td>\n",
              "      <td>0</td>\n",
              "      <td>0</td>\n",
              "      <td>185101017</td>\n",
              "      <td>185101017</td>\n",
              "      <td>HumasPoldaJatim</td>\n",
              "      <td>0</td>\n",
              "      <td>0</td>\n",
              "      <td>0</td>\n",
              "      <td>in</td>\n",
              "      <td>POLRESTA BANYUWANGI</td>\n",
              "      <td>Polres_Bwi</td>\n",
              "      <td>#Banyuwangi East Java</td>\n",
              "      <td>False</td>\n",
              "      <td>12415</td>\n",
              "      <td>987</td>\n",
              "      <td>personil subdit dalmas ditsamapta polda jatim ...</td>\n",
              "    </tr>\n",
              "    <tr>\n",
              "      <th>6100</th>\n",
              "      <td>2021-12-05 09:10:00+00:00</td>\n",
              "      <td>1467420981538947073</td>\n",
              "      <td>1467420981538947072</td>\n",
              "      <td>@dennysiregar7 bang,kemungkinan bentar lagi pa...</td>\n",
              "      <td>Twitter for Android</td>\n",
              "      <td>0</td>\n",
              "      <td>0</td>\n",
              "      <td>4780649298</td>\n",
              "      <td>4780649298</td>\n",
              "      <td>Dennysiregar7</td>\n",
              "      <td>0</td>\n",
              "      <td>0</td>\n",
              "      <td>0</td>\n",
              "      <td>in</td>\n",
              "      <td>Dedy Setiyawan</td>\n",
              "      <td>DedySet19424526</td>\n",
              "      <td></td>\n",
              "      <td>False</td>\n",
              "      <td>0</td>\n",
              "      <td>5</td>\n",
              "      <td>bang kemungkinan sebentar lagi pasti gorengann...</td>\n",
              "    </tr>\n",
              "  </tbody>\n",
              "</table>\n",
              "</div>"
            ],
            "text/plain": [
              "                    created_at  ...                                       cleaned_text\n",
              "2318 2021-12-07 11:52:29+00:00  ...  ini penipu jangan negxmati dah kena erupsi gun...\n",
              "2967 2021-12-07 11:39:26+00:00  ...  datang ke semeru tidak negxtanggung langsung k...\n",
              "4486 2021-12-07 11:08:14+00:00  ...  tiba di lumajang jawa timur setelah menempuh p...\n",
              "5286 2021-12-07 03:07:00+00:00  ...  personil subdit dalmas ditsamapta polda jatim ...\n",
              "6100 2021-12-05 09:10:00+00:00  ...  bang kemungkinan sebentar lagi pasti gorengann...\n",
              "\n",
              "[5 rows x 21 columns]"
            ]
          },
          "metadata": {},
          "execution_count": 57
        }
      ]
    },
    {
      "cell_type": "code",
      "source": [
        "# save as new column\n",
        "dataFinal['mention_to_user_id'] = dataFinal['in_reply_to_user_id'][(dataFinal['in_reply_to_status_id'] == 0)\n",
        "                                                     & (dataFinal['in_reply_to_user_id'] != 0)]\n",
        "# fill Nan's here as well\n",
        "dataFinal['mention_to_user_id'] = dataFinal['mention_to_user_id'].fillna(0)"
      ],
      "metadata": {
        "id": "h4sSsDkXUUWe"
      },
      "execution_count": null,
      "outputs": []
    },
    {
      "cell_type": "code",
      "source": [
        "# create dictionary with values to plot\n",
        "# the imputed zeros need to be excluded here\n",
        "data = {\n",
        "        'Tweets': (dataFinal['id'] != 0).sum(),\n",
        "        'Replies': (dataFinal['in_reply_to_status_id']!=0).sum(),\n",
        "        'Retweets': (dataFinal['retweet_count'] != 0).sum(),\n",
        "        'Mentions':  (dataFinal['mention_to_user_id'] != 0).sum()\n",
        "        }\n",
        "\n",
        "names = list(data.keys())\n",
        "values = list(data.values())\n",
        "\n",
        "# plot the above data\n",
        "# set the figure size\n",
        "plt.figure(figsize=(12,8))\n",
        "\n",
        "# create a countplot, ordered by count\n",
        "plt.bar(names, values)\n",
        "\n",
        "# set the labels and title\n",
        "plt.xlabel('Type of Tweet')\n",
        "plt.ylabel('Total tweets sent')\n",
        "plt.title('Kategori Tweet berdasarkan Tipe (tweet, retweet, atau replies)')"
      ],
      "metadata": {
        "colab": {
          "base_uri": "https://localhost:8080/",
          "height": 535
        },
        "id": "M8bl4lU-UeV0",
        "outputId": "9eb70da0-d2fd-4f59-ae69-063187667449"
      },
      "execution_count": null,
      "outputs": [
        {
          "output_type": "execute_result",
          "data": {
            "text/plain": [
              "Text(0.5, 1.0, 'Kategori Tweet berdasarkan Tipe (tweet, retweet, atau replies)')"
            ]
          },
          "metadata": {},
          "execution_count": 59
        },
        {
          "output_type": "display_data",
          "data": {
            "image/png": "[encoded data removed]",
            "text/plain": [
              "<Figure size 864x576 with 1 Axes>"
            ]
          },
          "metadata": {
            "needs_background": "light"
          }
        }
      ]
    },
    {
      "cell_type": "markdown",
      "source": [
        "Keterangan :\n",
        "\n",
        "\n",
        "> Kategori paling banyak dalam bentuk tweet lalu disusul dengan jumlah retweet yang terjadi pada kata 'ERUPSI'\n",
        "\n"
      ],
      "metadata": {
        "id": "eQV8CXsS2yn-"
      }
    },
    {
      "cell_type": "markdown",
      "source": [
        "## Tweet Language (Bahasa yang digunakan)"
      ],
      "metadata": {
        "id": "K6fIjY67ZLnW"
      }
    },
    {
      "cell_type": "code",
      "source": [
        "# Cek bahasa\n",
        "dataFinal['lang'].value_counts()"
      ],
      "metadata": {
        "colab": {
          "base_uri": "https://localhost:8080/"
        },
        "id": "80lhSxRHZBVz",
        "outputId": "4d3a2748-f9cb-4750-9237-4e12cf1d7bab"
      },
      "execution_count": null,
      "outputs": [
        {
          "output_type": "execute_result",
          "data": {
            "text/plain": [
              "in    14388\n",
              "Name: lang, dtype: int64"
            ]
          },
          "metadata": {},
          "execution_count": 60
        }
      ]
    },
    {
      "cell_type": "code",
      "source": [
        "ax = sns.countplot(y = 'lang', palette = 'muted', data=dataFinal)"
      ],
      "metadata": {
        "colab": {
          "base_uri": "https://localhost:8080/",
          "height": 285
        },
        "id": "uHxSkZBnaVW9",
        "outputId": "46435562-106c-42dc-e712-af143980221e"
      },
      "execution_count": null,
      "outputs": [
        {
          "output_type": "display_data",
          "data": {
            "image/png": "[encoded data removed]",
            "text/plain": [
              "<Figure size 432x288 with 1 Axes>"
            ]
          },
          "metadata": {
            "needs_background": "light"
          }
        }
      ]
    },
    {
      "cell_type": "markdown",
      "source": [
        "\n",
        "Keterangan :\n",
        "> Semua tweet berbahasa indonesia\n",
        "\n"
      ],
      "metadata": {
        "id": "SBtZfZ7Xac15"
      }
    },
    {
      "cell_type": "markdown",
      "source": [
        "## tanggal dan waktu terbanyak tweet"
      ],
      "metadata": {
        "id": "KvT-JpzPKoJ7"
      }
    },
    {
      "cell_type": "code",
      "execution_count": null,
      "metadata": {
        "id": "SsSFClKJBQiP",
        "colab": {
          "base_uri": "https://localhost:8080/",
          "height": 466
        },
        "outputId": "e9cf860c-8177-4f7f-f130-a2266eabfa79"
      },
      "outputs": [
        {
          "output_type": "execute_result",
          "data": {
            "text/html": [
              "<div>\n",
              "<style scoped>\n",
              "    .dataframe tbody tr th:only-of-type {\n",
              "        vertical-align: middle;\n",
              "    }\n",
              "\n",
              "    .dataframe tbody tr th {\n",
              "        vertical-align: top;\n",
              "    }\n",
              "\n",
              "    .dataframe thead th {\n",
              "        text-align: right;\n",
              "    }\n",
              "</style>\n",
              "<table border=\"1\" class=\"dataframe\">\n",
              "  <thead>\n",
              "    <tr style=\"text-align: right;\">\n",
              "      <th></th>\n",
              "      <th>id</th>\n",
              "      <th>id_str</th>\n",
              "      <th>text</th>\n",
              "      <th>source</th>\n",
              "      <th>in_reply_to_status_id</th>\n",
              "      <th>in_reply_to_status_id_str</th>\n",
              "      <th>in_reply_to_user_id</th>\n",
              "      <th>in_reply_to_user_id_str</th>\n",
              "      <th>in_reply_to_screen_name</th>\n",
              "      <th>geo</th>\n",
              "      <th>retweet_count</th>\n",
              "      <th>favorite_count</th>\n",
              "      <th>lang</th>\n",
              "      <th>name</th>\n",
              "      <th>screen_name</th>\n",
              "      <th>location</th>\n",
              "      <th>verified</th>\n",
              "      <th>followers_count</th>\n",
              "      <th>friends_count</th>\n",
              "      <th>cleaned_text</th>\n",
              "      <th>mention_to_user_id</th>\n",
              "    </tr>\n",
              "    <tr>\n",
              "      <th>created_at</th>\n",
              "      <th></th>\n",
              "      <th></th>\n",
              "      <th></th>\n",
              "      <th></th>\n",
              "      <th></th>\n",
              "      <th></th>\n",
              "      <th></th>\n",
              "      <th></th>\n",
              "      <th></th>\n",
              "      <th></th>\n",
              "      <th></th>\n",
              "      <th></th>\n",
              "      <th></th>\n",
              "      <th></th>\n",
              "      <th></th>\n",
              "      <th></th>\n",
              "      <th></th>\n",
              "      <th></th>\n",
              "      <th></th>\n",
              "      <th></th>\n",
              "      <th></th>\n",
              "    </tr>\n",
              "  </thead>\n",
              "  <tbody>\n",
              "    <tr>\n",
              "      <th>2021-12-07 12:40:05+00:00</th>\n",
              "      <td>1468198630519558144</td>\n",
              "      <td>1468198630519558144</td>\n",
              "      <td>rt @listyosigitp: pagi ini saya meninjau lebih...</td>\n",
              "      <td>Twitter for Android</td>\n",
              "      <td>0</td>\n",
              "      <td>0</td>\n",
              "      <td>0</td>\n",
              "      <td>0</td>\n",
              "      <td>None</td>\n",
              "      <td>0</td>\n",
              "      <td>111</td>\n",
              "      <td>0</td>\n",
              "      <td>in</td>\n",
              "      <td>🇮🇩🐦 Eka Kurnia™ 🐦🇮🇩</td>\n",
              "      <td>ekurnia82</td>\n",
              "      <td>Banten - DKI Jakarta (PP)</td>\n",
              "      <td>False</td>\n",
              "      <td>1643</td>\n",
              "      <td>3201</td>\n",
              "      <td>retweet pagi ini saya meninjau lebih dekat sit...</td>\n",
              "      <td>0.0</td>\n",
              "    </tr>\n",
              "    <tr>\n",
              "      <th>2021-12-07 12:40:05+00:00</th>\n",
              "      <td>1468198628699213830</td>\n",
              "      <td>1468198628699213824</td>\n",
              "      <td>rt @6undul0h: innalillahi wa innailaihi rojiun...</td>\n",
              "      <td>Twitter for Android</td>\n",
              "      <td>0</td>\n",
              "      <td>0</td>\n",
              "      <td>0</td>\n",
              "      <td>0</td>\n",
              "      <td>None</td>\n",
              "      <td>0</td>\n",
              "      <td>4</td>\n",
              "      <td>0</td>\n",
              "      <td>in</td>\n",
              "      <td>🏴 #neversurrender</td>\n",
              "      <td>wiezz2</td>\n",
              "      <td></td>\n",
              "      <td>False</td>\n",
              "      <td>681</td>\n",
              "      <td>947</td>\n",
              "      <td>retweet innalillahi wa innailaihi rojiun bakti...</td>\n",
              "      <td>0.0</td>\n",
              "    </tr>\n",
              "    <tr>\n",
              "      <th>2021-12-07 12:40:05+00:00</th>\n",
              "      <td>1468198628216897537</td>\n",
              "      <td>1468198628216897536</td>\n",
              "      <td>rt @abdillahonim: tawaf tv: guru dan murid di ...</td>\n",
              "      <td>Twitter Web App</td>\n",
              "      <td>0</td>\n",
              "      <td>0</td>\n",
              "      <td>0</td>\n",
              "      <td>0</td>\n",
              "      <td>None</td>\n",
              "      <td>0</td>\n",
              "      <td>21</td>\n",
              "      <td>0</td>\n",
              "      <td>in</td>\n",
              "      <td>Triple_K</td>\n",
              "      <td>thewayon1</td>\n",
              "      <td></td>\n",
              "      <td>False</td>\n",
              "      <td>146</td>\n",
              "      <td>436</td>\n",
              "      <td>retweet tawaf televisi guru dan murid di pales...</td>\n",
              "      <td>0.0</td>\n",
              "    </tr>\n",
              "    <tr>\n",
              "      <th>2021-12-07 12:40:04+00:00</th>\n",
              "      <td>1468198624265838596</td>\n",
              "      <td>1468198624265838592</td>\n",
              "      <td>rt @lauthumas: polri gelar operasi kemanusiaan...</td>\n",
              "      <td>Twitter for Android</td>\n",
              "      <td>0</td>\n",
              "      <td>0</td>\n",
              "      <td>0</td>\n",
              "      <td>0</td>\n",
              "      <td>None</td>\n",
              "      <td>0</td>\n",
              "      <td>3</td>\n",
              "      <td>0</td>\n",
              "      <td>in</td>\n",
              "      <td>Al Ghifari 2005</td>\n",
              "      <td>2005Ghifari</td>\n",
              "      <td></td>\n",
              "      <td>False</td>\n",
              "      <td>2</td>\n",
              "      <td>4</td>\n",
              "      <td>retweet polri gelar operasi kemanusiaan aman n...</td>\n",
              "      <td>0.0</td>\n",
              "    </tr>\n",
              "    <tr>\n",
              "      <th>2021-12-07 12:40:02+00:00</th>\n",
              "      <td>1468198616216924162</td>\n",
              "      <td>1468198616216924160</td>\n",
              "      <td>#bansertanggapbencana satkorcab banser kab. pa...</td>\n",
              "      <td>Twitter for Android</td>\n",
              "      <td>0</td>\n",
              "      <td>0</td>\n",
              "      <td>0</td>\n",
              "      <td>0</td>\n",
              "      <td>None</td>\n",
              "      <td>0</td>\n",
              "      <td>0</td>\n",
              "      <td>0</td>\n",
              "      <td>in</td>\n",
              "      <td>Khoirul Umam</td>\n",
              "      <td>Umam_elchoiru</td>\n",
              "      <td>Diantara Kopi, NU dan Kamu</td>\n",
              "      <td>False</td>\n",
              "      <td>1923</td>\n",
              "      <td>1206</td>\n",
              "      <td>bansertanggapbencana satkorcab banser kabupate...</td>\n",
              "      <td>0.0</td>\n",
              "    </tr>\n",
              "  </tbody>\n",
              "</table>\n",
              "</div>"
            ],
            "text/plain": [
              "                                            id  ...  mention_to_user_id\n",
              "created_at                                      ...                    \n",
              "2021-12-07 12:40:05+00:00  1468198630519558144  ...                 0.0\n",
              "2021-12-07 12:40:05+00:00  1468198628699213830  ...                 0.0\n",
              "2021-12-07 12:40:05+00:00  1468198628216897537  ...                 0.0\n",
              "2021-12-07 12:40:04+00:00  1468198624265838596  ...                 0.0\n",
              "2021-12-07 12:40:02+00:00  1468198616216924162  ...                 0.0\n",
              "\n",
              "[5 rows x 21 columns]"
            ]
          },
          "metadata": {},
          "execution_count": 62
        }
      ],
      "source": [
        "# create a copy of the dataframe\n",
        "dataFinal_time = dataFinal.copy()\n",
        "\n",
        "# set the timestamp column as the index and delete the column\n",
        "dataFinal_time.index = dataFinal_time['created_at']\n",
        "del dataFinal_time['created_at']\n",
        "\n",
        "dataFinal_time.head()"
      ]
    },
    {
      "cell_type": "code",
      "execution_count": null,
      "metadata": {
        "id": "KB8W9zClBQl3"
      },
      "outputs": [],
      "source": [
        "dataFinal['weekdaynum'] = dataFinal['created_at'].dt.dayofweek\n",
        "dataFinal['monthdaynum'] = dataFinal['created_at'].dt.day\n",
        "dataFinal['hourofday'] = dataFinal['created_at'].dt.hour"
      ]
    },
    {
      "cell_type": "code",
      "execution_count": null,
      "metadata": {
        "id": "y_tn_dLKBQnS",
        "colab": {
          "base_uri": "https://localhost:8080/",
          "height": 515
        },
        "outputId": "c818f97e-cb01-4d72-ec57-3dd8e7cb947c"
      },
      "outputs": [
        {
          "output_type": "display_data",
          "data": {
            "image/png": "[encoded data removed]",
            "text/plain": [
              "<Figure size 864x576 with 1 Axes>"
            ]
          },
          "metadata": {
            "needs_background": "light"
          }
        }
      ],
      "source": [
        "# create a bar plot with month days\n",
        "dataFinal.pivot_table(index='monthdaynum',values='id',aggfunc='count').plot(kind='bar',figsize=(12,8),color='skyblue')\n",
        "\n",
        "# set the labels and title\n",
        "plt.ylabel('Total tweets sent')\n",
        "plt.xlabel('Month day')\n",
        "plt.title('Tweets sent by month day');"
      ]
    },
    {
      "cell_type": "markdown",
      "source": [
        "Keterangan :\n",
        "\n",
        "> Paling banyak pada hari ke tujuh dengan tweet lebih dari 8000\n",
        "\n"
      ],
      "metadata": {
        "id": "rKZTuVRD1pLF"
      }
    },
    {
      "cell_type": "code",
      "execution_count": null,
      "metadata": {
        "id": "hiJ80Iv0BQra",
        "colab": {
          "base_uri": "https://localhost:8080/",
          "height": 522
        },
        "outputId": "5ca2bf59-c8ea-449f-dd9e-e70d465f91a4"
      },
      "outputs": [
        {
          "output_type": "display_data",
          "data": {
            "image/png": "[encoded data removed]",
            "text/plain": [
              "<Figure size 864x576 with 1 Axes>"
            ]
          },
          "metadata": {
            "needs_background": "light"
          }
        }
      ],
      "source": [
        "# create a bar plot with hours of day\n",
        "dataFinal.pivot_table(index='hourofday',values='id',aggfunc='count').plot(kind='bar',figsize=(12,8),color='skyblue')\n",
        "\n",
        "# set the labels and title\n",
        "plt.ylabel('Total tweets sent')\n",
        "plt.xlabel('Hours of the day (in UTC)')\n",
        "plt.title('Tweets sent by hour of the day (in UTC)');"
      ]
    },
    {
      "cell_type": "markdown",
      "source": [
        "Keterangan :\n",
        "> Paling banyak pada 11 UTC atau sekitar jam 18.00 WIB\n",
        "\n"
      ],
      "metadata": {
        "id": "wMDmWE671-fj"
      }
    },
    {
      "cell_type": "markdown",
      "source": [
        "# Statistika Deskriptif"
      ],
      "metadata": {
        "id": "p2xuKrqcgRVU"
      }
    },
    {
      "cell_type": "code",
      "execution_count": null,
      "metadata": {
        "id": "oCfEVkZVBQsh",
        "colab": {
          "base_uri": "https://localhost:8080/",
          "height": 320
        },
        "outputId": "b8a8cf3a-69b5-4b41-f71c-f90a2f4f41c7"
      },
      "outputs": [
        {
          "output_type": "execute_result",
          "data": {
            "text/html": [
              "<div>\n",
              "<style scoped>\n",
              "    .dataframe tbody tr th:only-of-type {\n",
              "        vertical-align: middle;\n",
              "    }\n",
              "\n",
              "    .dataframe tbody tr th {\n",
              "        vertical-align: top;\n",
              "    }\n",
              "\n",
              "    .dataframe thead th {\n",
              "        text-align: right;\n",
              "    }\n",
              "</style>\n",
              "<table border=\"1\" class=\"dataframe\">\n",
              "  <thead>\n",
              "    <tr style=\"text-align: right;\">\n",
              "      <th></th>\n",
              "      <th>id</th>\n",
              "      <th>id_str</th>\n",
              "      <th>in_reply_to_status_id</th>\n",
              "      <th>in_reply_to_status_id_str</th>\n",
              "      <th>in_reply_to_user_id</th>\n",
              "      <th>in_reply_to_user_id_str</th>\n",
              "      <th>geo</th>\n",
              "      <th>retweet_count</th>\n",
              "      <th>favorite_count</th>\n",
              "      <th>followers_count</th>\n",
              "      <th>friends_count</th>\n",
              "      <th>mention_to_user_id</th>\n",
              "      <th>weekdaynum</th>\n",
              "      <th>monthdaynum</th>\n",
              "      <th>hourofday</th>\n",
              "    </tr>\n",
              "  </thead>\n",
              "  <tbody>\n",
              "    <tr>\n",
              "      <th>count</th>\n",
              "      <td>1.438800e+04</td>\n",
              "      <td>1.438800e+04</td>\n",
              "      <td>1.438800e+04</td>\n",
              "      <td>1.438800e+04</td>\n",
              "      <td>1.438800e+04</td>\n",
              "      <td>1.438800e+04</td>\n",
              "      <td>14388.0</td>\n",
              "      <td>14388.000000</td>\n",
              "      <td>14388.000000</td>\n",
              "      <td>1.438800e+04</td>\n",
              "      <td>14388.000000</td>\n",
              "      <td>1.438800e+04</td>\n",
              "      <td>14388.000000</td>\n",
              "      <td>14388.000000</td>\n",
              "      <td>14388.000000</td>\n",
              "    </tr>\n",
              "    <tr>\n",
              "      <th>mean</th>\n",
              "      <td>1.467889e+18</td>\n",
              "      <td>1.467889e+18</td>\n",
              "      <td>4.958160e+16</td>\n",
              "      <td>4.958160e+16</td>\n",
              "      <td>4.214962e+16</td>\n",
              "      <td>4.214962e+16</td>\n",
              "      <td>0.0</td>\n",
              "      <td>2533.184668</td>\n",
              "      <td>1.120170</td>\n",
              "      <td>5.406518e+04</td>\n",
              "      <td>1300.882054</td>\n",
              "      <td>1.580568e+16</td>\n",
              "      <td>2.228941</td>\n",
              "      <td>6.185571</td>\n",
              "      <td>11.200097</td>\n",
              "    </tr>\n",
              "    <tr>\n",
              "      <th>std</th>\n",
              "      <td>4.389832e+14</td>\n",
              "      <td>4.389832e+14</td>\n",
              "      <td>2.651894e+17</td>\n",
              "      <td>2.651894e+17</td>\n",
              "      <td>2.254543e+17</td>\n",
              "      <td>2.254543e+17</td>\n",
              "      <td>0.0</td>\n",
              "      <td>4706.095855</td>\n",
              "      <td>55.345052</td>\n",
              "      <td>7.103873e+05</td>\n",
              "      <td>2686.864374</td>\n",
              "      <td>1.370732e+17</td>\n",
              "      <td>2.005377</td>\n",
              "      <td>1.238460</td>\n",
              "      <td>3.497797</td>\n",
              "    </tr>\n",
              "    <tr>\n",
              "      <th>min</th>\n",
              "      <td>1.467101e+18</td>\n",
              "      <td>1.467101e+18</td>\n",
              "      <td>0.000000e+00</td>\n",
              "      <td>0.000000e+00</td>\n",
              "      <td>0.000000e+00</td>\n",
              "      <td>0.000000e+00</td>\n",
              "      <td>0.0</td>\n",
              "      <td>0.000000</td>\n",
              "      <td>0.000000</td>\n",
              "      <td>0.000000e+00</td>\n",
              "      <td>0.000000</td>\n",
              "      <td>0.000000e+00</td>\n",
              "      <td>0.000000</td>\n",
              "      <td>4.000000</td>\n",
              "      <td>0.000000</td>\n",
              "    </tr>\n",
              "    <tr>\n",
              "      <th>25%</th>\n",
              "      <td>1.467351e+18</td>\n",
              "      <td>1.467351e+18</td>\n",
              "      <td>0.000000e+00</td>\n",
              "      <td>0.000000e+00</td>\n",
              "      <td>0.000000e+00</td>\n",
              "      <td>0.000000e+00</td>\n",
              "      <td>0.0</td>\n",
              "      <td>9.000000</td>\n",
              "      <td>0.000000</td>\n",
              "      <td>1.180000e+02</td>\n",
              "      <td>175.000000</td>\n",
              "      <td>0.000000e+00</td>\n",
              "      <td>1.000000</td>\n",
              "      <td>5.000000</td>\n",
              "      <td>10.000000</td>\n",
              "    </tr>\n",
              "    <tr>\n",
              "      <th>50%</th>\n",
              "      <td>1.468175e+18</td>\n",
              "      <td>1.468175e+18</td>\n",
              "      <td>0.000000e+00</td>\n",
              "      <td>0.000000e+00</td>\n",
              "      <td>0.000000e+00</td>\n",
              "      <td>0.000000e+00</td>\n",
              "      <td>0.0</td>\n",
              "      <td>90.000000</td>\n",
              "      <td>0.000000</td>\n",
              "      <td>4.130000e+02</td>\n",
              "      <td>403.000000</td>\n",
              "      <td>0.000000e+00</td>\n",
              "      <td>1.000000</td>\n",
              "      <td>7.000000</td>\n",
              "      <td>11.000000</td>\n",
              "    </tr>\n",
              "    <tr>\n",
              "      <th>75%</th>\n",
              "      <td>1.468189e+18</td>\n",
              "      <td>1.468189e+18</td>\n",
              "      <td>0.000000e+00</td>\n",
              "      <td>0.000000e+00</td>\n",
              "      <td>0.000000e+00</td>\n",
              "      <td>0.000000e+00</td>\n",
              "      <td>0.0</td>\n",
              "      <td>2665.000000</td>\n",
              "      <td>0.000000</td>\n",
              "      <td>1.524250e+03</td>\n",
              "      <td>1134.250000</td>\n",
              "      <td>0.000000e+00</td>\n",
              "      <td>5.000000</td>\n",
              "      <td>7.000000</td>\n",
              "      <td>12.000000</td>\n",
              "    </tr>\n",
              "    <tr>\n",
              "      <th>max</th>\n",
              "      <td>1.468211e+18</td>\n",
              "      <td>1.468211e+18</td>\n",
              "      <td>1.468211e+18</td>\n",
              "      <td>1.468211e+18</td>\n",
              "      <td>1.468130e+18</td>\n",
              "      <td>1.468130e+18</td>\n",
              "      <td>0.0</td>\n",
              "      <td>14569.000000</td>\n",
              "      <td>6552.000000</td>\n",
              "      <td>1.728881e+07</td>\n",
              "      <td>32111.000000</td>\n",
              "      <td>1.468130e+18</td>\n",
              "      <td>6.000000</td>\n",
              "      <td>7.000000</td>\n",
              "      <td>23.000000</td>\n",
              "    </tr>\n",
              "  </tbody>\n",
              "</table>\n",
              "</div>"
            ],
            "text/plain": [
              "                 id        id_str  ...   monthdaynum     hourofday\n",
              "count  1.438800e+04  1.438800e+04  ...  14388.000000  14388.000000\n",
              "mean   1.467889e+18  1.467889e+18  ...      6.185571     11.200097\n",
              "std    4.389832e+14  4.389832e+14  ...      1.238460      3.497797\n",
              "min    1.467101e+18  1.467101e+18  ...      4.000000      0.000000\n",
              "25%    1.467351e+18  1.467351e+18  ...      5.000000     10.000000\n",
              "50%    1.468175e+18  1.468175e+18  ...      7.000000     11.000000\n",
              "75%    1.468189e+18  1.468189e+18  ...      7.000000     12.000000\n",
              "max    1.468211e+18  1.468211e+18  ...      7.000000     23.000000\n",
              "\n",
              "[8 rows x 15 columns]"
            ]
          },
          "metadata": {},
          "execution_count": 68
        }
      ],
      "source": [
        "dataFinal.describe()"
      ]
    },
    {
      "cell_type": "code",
      "source": [
        "# Statistika Sederhana dari data \"Numerik\"-nya\n",
        "dataFinal.corr()"
      ],
      "metadata": {
        "colab": {
          "base_uri": "https://localhost:8080/",
          "height": 571
        },
        "id": "jf2j4A-xdD54",
        "outputId": "5efe6764-ff29-48ea-ec19-89f1c61c0977"
      },
      "execution_count": null,
      "outputs": [
        {
          "output_type": "execute_result",
          "data": {
            "text/html": [
              "<div>\n",
              "<style scoped>\n",
              "    .dataframe tbody tr th:only-of-type {\n",
              "        vertical-align: middle;\n",
              "    }\n",
              "\n",
              "    .dataframe tbody tr th {\n",
              "        vertical-align: top;\n",
              "    }\n",
              "\n",
              "    .dataframe thead th {\n",
              "        text-align: right;\n",
              "    }\n",
              "</style>\n",
              "<table border=\"1\" class=\"dataframe\">\n",
              "  <thead>\n",
              "    <tr style=\"text-align: right;\">\n",
              "      <th></th>\n",
              "      <th>id</th>\n",
              "      <th>id_str</th>\n",
              "      <th>in_reply_to_status_id</th>\n",
              "      <th>in_reply_to_status_id_str</th>\n",
              "      <th>in_reply_to_user_id</th>\n",
              "      <th>in_reply_to_user_id_str</th>\n",
              "      <th>geo</th>\n",
              "      <th>retweet_count</th>\n",
              "      <th>favorite_count</th>\n",
              "      <th>verified</th>\n",
              "      <th>followers_count</th>\n",
              "      <th>friends_count</th>\n",
              "      <th>mention_to_user_id</th>\n",
              "      <th>weekdaynum</th>\n",
              "      <th>monthdaynum</th>\n",
              "      <th>hourofday</th>\n",
              "    </tr>\n",
              "  </thead>\n",
              "  <tbody>\n",
              "    <tr>\n",
              "      <th>id</th>\n",
              "      <td>1.000000</td>\n",
              "      <td>1.000000</td>\n",
              "      <td>0.016748</td>\n",
              "      <td>0.016748</td>\n",
              "      <td>0.061126</td>\n",
              "      <td>0.061126</td>\n",
              "      <td>NaN</td>\n",
              "      <td>0.106102</td>\n",
              "      <td>-0.014801</td>\n",
              "      <td>0.127721</td>\n",
              "      <td>0.040679</td>\n",
              "      <td>0.156304</td>\n",
              "      <td>0.075766</td>\n",
              "      <td>-0.937039</td>\n",
              "      <td>0.993201</td>\n",
              "      <td>-0.125786</td>\n",
              "    </tr>\n",
              "    <tr>\n",
              "      <th>id_str</th>\n",
              "      <td>1.000000</td>\n",
              "      <td>1.000000</td>\n",
              "      <td>0.016748</td>\n",
              "      <td>0.016748</td>\n",
              "      <td>0.061126</td>\n",
              "      <td>0.061126</td>\n",
              "      <td>NaN</td>\n",
              "      <td>0.106102</td>\n",
              "      <td>-0.014801</td>\n",
              "      <td>0.127721</td>\n",
              "      <td>0.040679</td>\n",
              "      <td>0.156304</td>\n",
              "      <td>0.075766</td>\n",
              "      <td>-0.937039</td>\n",
              "      <td>0.993201</td>\n",
              "      <td>-0.125786</td>\n",
              "    </tr>\n",
              "    <tr>\n",
              "      <th>in_reply_to_status_id</th>\n",
              "      <td>0.016748</td>\n",
              "      <td>0.016748</td>\n",
              "      <td>1.000000</td>\n",
              "      <td>1.000000</td>\n",
              "      <td>0.611873</td>\n",
              "      <td>0.611873</td>\n",
              "      <td>NaN</td>\n",
              "      <td>-0.100624</td>\n",
              "      <td>0.003389</td>\n",
              "      <td>0.035499</td>\n",
              "      <td>-0.010289</td>\n",
              "      <td>-0.018748</td>\n",
              "      <td>-0.021560</td>\n",
              "      <td>-0.018703</td>\n",
              "      <td>0.017383</td>\n",
              "      <td>-0.010918</td>\n",
              "    </tr>\n",
              "    <tr>\n",
              "      <th>in_reply_to_status_id_str</th>\n",
              "      <td>0.016748</td>\n",
              "      <td>0.016748</td>\n",
              "      <td>1.000000</td>\n",
              "      <td>1.000000</td>\n",
              "      <td>0.611873</td>\n",
              "      <td>0.611873</td>\n",
              "      <td>NaN</td>\n",
              "      <td>-0.100624</td>\n",
              "      <td>0.003389</td>\n",
              "      <td>0.035499</td>\n",
              "      <td>-0.010289</td>\n",
              "      <td>-0.018748</td>\n",
              "      <td>-0.021560</td>\n",
              "      <td>-0.018703</td>\n",
              "      <td>0.017383</td>\n",
              "      <td>-0.010918</td>\n",
              "    </tr>\n",
              "    <tr>\n",
              "      <th>in_reply_to_user_id</th>\n",
              "      <td>0.061126</td>\n",
              "      <td>0.061126</td>\n",
              "      <td>0.611873</td>\n",
              "      <td>0.611873</td>\n",
              "      <td>1.000000</td>\n",
              "      <td>1.000000</td>\n",
              "      <td>NaN</td>\n",
              "      <td>-0.100620</td>\n",
              "      <td>0.002197</td>\n",
              "      <td>0.356839</td>\n",
              "      <td>0.000169</td>\n",
              "      <td>-0.034281</td>\n",
              "      <td>0.594512</td>\n",
              "      <td>-0.056949</td>\n",
              "      <td>0.060623</td>\n",
              "      <td>-0.008610</td>\n",
              "    </tr>\n",
              "    <tr>\n",
              "      <th>in_reply_to_user_id_str</th>\n",
              "      <td>0.061126</td>\n",
              "      <td>0.061126</td>\n",
              "      <td>0.611873</td>\n",
              "      <td>0.611873</td>\n",
              "      <td>1.000000</td>\n",
              "      <td>1.000000</td>\n",
              "      <td>NaN</td>\n",
              "      <td>-0.100620</td>\n",
              "      <td>0.002197</td>\n",
              "      <td>0.356839</td>\n",
              "      <td>0.000169</td>\n",
              "      <td>-0.034281</td>\n",
              "      <td>0.594512</td>\n",
              "      <td>-0.056949</td>\n",
              "      <td>0.060623</td>\n",
              "      <td>-0.008610</td>\n",
              "    </tr>\n",
              "    <tr>\n",
              "      <th>geo</th>\n",
              "      <td>NaN</td>\n",
              "      <td>NaN</td>\n",
              "      <td>NaN</td>\n",
              "      <td>NaN</td>\n",
              "      <td>NaN</td>\n",
              "      <td>NaN</td>\n",
              "      <td>NaN</td>\n",
              "      <td>NaN</td>\n",
              "      <td>NaN</td>\n",
              "      <td>NaN</td>\n",
              "      <td>NaN</td>\n",
              "      <td>NaN</td>\n",
              "      <td>NaN</td>\n",
              "      <td>NaN</td>\n",
              "      <td>NaN</td>\n",
              "      <td>NaN</td>\n",
              "    </tr>\n",
              "    <tr>\n",
              "      <th>retweet_count</th>\n",
              "      <td>0.106102</td>\n",
              "      <td>0.106102</td>\n",
              "      <td>-0.100624</td>\n",
              "      <td>-0.100624</td>\n",
              "      <td>-0.100620</td>\n",
              "      <td>-0.100620</td>\n",
              "      <td>NaN</td>\n",
              "      <td>1.000000</td>\n",
              "      <td>-0.006152</td>\n",
              "      <td>-0.108592</td>\n",
              "      <td>-0.040453</td>\n",
              "      <td>-0.148664</td>\n",
              "      <td>-0.062072</td>\n",
              "      <td>-0.087624</td>\n",
              "      <td>0.098992</td>\n",
              "      <td>0.045919</td>\n",
              "    </tr>\n",
              "    <tr>\n",
              "      <th>favorite_count</th>\n",
              "      <td>-0.014801</td>\n",
              "      <td>-0.014801</td>\n",
              "      <td>0.003389</td>\n",
              "      <td>0.003389</td>\n",
              "      <td>0.002197</td>\n",
              "      <td>0.002197</td>\n",
              "      <td>NaN</td>\n",
              "      <td>-0.006152</td>\n",
              "      <td>1.000000</td>\n",
              "      <td>0.003699</td>\n",
              "      <td>0.010709</td>\n",
              "      <td>0.001131</td>\n",
              "      <td>-0.002282</td>\n",
              "      <td>0.009742</td>\n",
              "      <td>-0.014886</td>\n",
              "      <td>0.002709</td>\n",
              "    </tr>\n",
              "    <tr>\n",
              "      <th>verified</th>\n",
              "      <td>0.127721</td>\n",
              "      <td>0.127721</td>\n",
              "      <td>0.035499</td>\n",
              "      <td>0.035499</td>\n",
              "      <td>0.356839</td>\n",
              "      <td>0.356839</td>\n",
              "      <td>NaN</td>\n",
              "      <td>-0.108592</td>\n",
              "      <td>0.003699</td>\n",
              "      <td>1.000000</td>\n",
              "      <td>0.288865</td>\n",
              "      <td>-0.070560</td>\n",
              "      <td>0.560770</td>\n",
              "      <td>-0.121759</td>\n",
              "      <td>0.126311</td>\n",
              "      <td>-0.010850</td>\n",
              "    </tr>\n",
              "    <tr>\n",
              "      <th>followers_count</th>\n",
              "      <td>0.040679</td>\n",
              "      <td>0.040679</td>\n",
              "      <td>-0.010289</td>\n",
              "      <td>-0.010289</td>\n",
              "      <td>0.000169</td>\n",
              "      <td>0.000169</td>\n",
              "      <td>NaN</td>\n",
              "      <td>-0.040453</td>\n",
              "      <td>0.010709</td>\n",
              "      <td>0.288865</td>\n",
              "      <td>1.000000</td>\n",
              "      <td>-0.026303</td>\n",
              "      <td>0.011906</td>\n",
              "      <td>-0.040698</td>\n",
              "      <td>0.040484</td>\n",
              "      <td>-0.005697</td>\n",
              "    </tr>\n",
              "    <tr>\n",
              "      <th>friends_count</th>\n",
              "      <td>0.156304</td>\n",
              "      <td>0.156304</td>\n",
              "      <td>-0.018748</td>\n",
              "      <td>-0.018748</td>\n",
              "      <td>-0.034281</td>\n",
              "      <td>-0.034281</td>\n",
              "      <td>NaN</td>\n",
              "      <td>-0.148664</td>\n",
              "      <td>0.001131</td>\n",
              "      <td>-0.070560</td>\n",
              "      <td>-0.026303</td>\n",
              "      <td>1.000000</td>\n",
              "      <td>-0.042412</td>\n",
              "      <td>-0.157382</td>\n",
              "      <td>0.157832</td>\n",
              "      <td>-0.043886</td>\n",
              "    </tr>\n",
              "    <tr>\n",
              "      <th>mention_to_user_id</th>\n",
              "      <td>0.075766</td>\n",
              "      <td>0.075766</td>\n",
              "      <td>-0.021560</td>\n",
              "      <td>-0.021560</td>\n",
              "      <td>0.594512</td>\n",
              "      <td>0.594512</td>\n",
              "      <td>NaN</td>\n",
              "      <td>-0.062072</td>\n",
              "      <td>-0.002282</td>\n",
              "      <td>0.560770</td>\n",
              "      <td>0.011906</td>\n",
              "      <td>-0.042412</td>\n",
              "      <td>1.000000</td>\n",
              "      <td>-0.069050</td>\n",
              "      <td>0.074786</td>\n",
              "      <td>-0.006040</td>\n",
              "    </tr>\n",
              "    <tr>\n",
              "      <th>weekdaynum</th>\n",
              "      <td>-0.937039</td>\n",
              "      <td>-0.937039</td>\n",
              "      <td>-0.018703</td>\n",
              "      <td>-0.018703</td>\n",
              "      <td>-0.056949</td>\n",
              "      <td>-0.056949</td>\n",
              "      <td>NaN</td>\n",
              "      <td>-0.087624</td>\n",
              "      <td>0.009742</td>\n",
              "      <td>-0.121759</td>\n",
              "      <td>-0.040698</td>\n",
              "      <td>-0.157382</td>\n",
              "      <td>-0.069050</td>\n",
              "      <td>1.000000</td>\n",
              "      <td>-0.920770</td>\n",
              "      <td>0.034037</td>\n",
              "    </tr>\n",
              "    <tr>\n",
              "      <th>monthdaynum</th>\n",
              "      <td>0.993201</td>\n",
              "      <td>0.993201</td>\n",
              "      <td>0.017383</td>\n",
              "      <td>0.017383</td>\n",
              "      <td>0.060623</td>\n",
              "      <td>0.060623</td>\n",
              "      <td>NaN</td>\n",
              "      <td>0.098992</td>\n",
              "      <td>-0.014886</td>\n",
              "      <td>0.126311</td>\n",
              "      <td>0.040484</td>\n",
              "      <td>0.157832</td>\n",
              "      <td>0.074786</td>\n",
              "      <td>-0.920770</td>\n",
              "      <td>1.000000</td>\n",
              "      <td>-0.240013</td>\n",
              "    </tr>\n",
              "    <tr>\n",
              "      <th>hourofday</th>\n",
              "      <td>-0.125786</td>\n",
              "      <td>-0.125786</td>\n",
              "      <td>-0.010918</td>\n",
              "      <td>-0.010918</td>\n",
              "      <td>-0.008610</td>\n",
              "      <td>-0.008610</td>\n",
              "      <td>NaN</td>\n",
              "      <td>0.045919</td>\n",
              "      <td>0.002709</td>\n",
              "      <td>-0.010850</td>\n",
              "      <td>-0.005697</td>\n",
              "      <td>-0.043886</td>\n",
              "      <td>-0.006040</td>\n",
              "      <td>0.034037</td>\n",
              "      <td>-0.240013</td>\n",
              "      <td>1.000000</td>\n",
              "    </tr>\n",
              "  </tbody>\n",
              "</table>\n",
              "</div>"
            ],
            "text/plain": [
              "                                 id    id_str  ...  monthdaynum  hourofday\n",
              "id                         1.000000  1.000000  ...     0.993201  -0.125786\n",
              "id_str                     1.000000  1.000000  ...     0.993201  -0.125786\n",
              "in_reply_to_status_id      0.016748  0.016748  ...     0.017383  -0.010918\n",
              "in_reply_to_status_id_str  0.016748  0.016748  ...     0.017383  -0.010918\n",
              "in_reply_to_user_id        0.061126  0.061126  ...     0.060623  -0.008610\n",
              "in_reply_to_user_id_str    0.061126  0.061126  ...     0.060623  -0.008610\n",
              "geo                             NaN       NaN  ...          NaN        NaN\n",
              "retweet_count              0.106102  0.106102  ...     0.098992   0.045919\n",
              "favorite_count            -0.014801 -0.014801  ...    -0.014886   0.002709\n",
              "verified                   0.127721  0.127721  ...     0.126311  -0.010850\n",
              "followers_count            0.040679  0.040679  ...     0.040484  -0.005697\n",
              "friends_count              0.156304  0.156304  ...     0.157832  -0.043886\n",
              "mention_to_user_id         0.075766  0.075766  ...     0.074786  -0.006040\n",
              "weekdaynum                -0.937039 -0.937039  ...    -0.920770   0.034037\n",
              "monthdaynum                0.993201  0.993201  ...     1.000000  -0.240013\n",
              "hourofday                 -0.125786 -0.125786  ...    -0.240013   1.000000\n",
              "\n",
              "[16 rows x 16 columns]"
            ]
          },
          "metadata": {},
          "execution_count": 69
        }
      ]
    },
    {
      "cell_type": "code",
      "source": [
        "# HeatMap untuk menyelidiki korelasi\n",
        "corr2 = dataFinal.corr() # We already examined SalePrice correlations\n",
        "plt.figure(figsize=(12, 10))\n",
        "sns.heatmap(corr2[(corr2 >= 0.5) | (corr2 <= -0.4)],\n",
        "            cmap='viridis', vmax=1.0, vmin=-1.0, linewidths=0.1,\n",
        "            annot=True, annot_kws={\"size\": 14}, square=True);"
      ],
      "metadata": {
        "colab": {
          "base_uri": "https://localhost:8080/",
          "height": 719
        },
        "id": "dC3CrrFQLOOP",
        "outputId": "ba99f10e-27f0-4973-f6ac-db6ba3d18c59"
      },
      "execution_count": null,
      "outputs": [
        {
          "output_type": "display_data",
          "data": {
            "image/png": "[encoded data removed]",
            "text/plain": [
              "<Figure size 864x720 with 2 Axes>"
            ]
          },
          "metadata": {
            "needs_background": "light"
          }
        }
      ]
    },
    {
      "cell_type": "markdown",
      "metadata": {
        "id": "4XrvYKg8TqRs"
      },
      "source": [
        "# Kesimpulan"
      ]
    },
    {
      "cell_type": "markdown",
      "source": [
        "Kami mengambil data menggunakan kata dasar 'Erupsi' pada Jumat, 7 Desember 2021 pada pukul 21.00 WIB dengan jumlah data sekitar 15 ribu. Dari hasil pengolahan data yang kami lakukan kami mendapatkan beberapa informasi yaitu:\n",
        "\n",
        "*   Erupsi mendapat jumlah kata lebih dari 12 ribu dan menjadi kata terbanyak dalam kasus ini. Disusul dengan kata semeru dengan jumlah lebih dari 8 ribu, lalu kata gunung lebih dari 6 ribu.\n",
        "*   Berkenaan dengan kata dasar yang kami gunakan pada Sabtu, 4 Desember 2021 Erupsi mengalami Trending Topic Twiter wilayah Indonesia dikarenakan adanya kejadian erupsi gunung Semeru yang menjadi perbincangan dikalangan pengguna Twitter.\n",
        "*   Dengan ada nya trending tersebut kami mendapatkan analisa bahwa pengguna akun yang telah ter-verified sebanyak 565 akun dan 13 ribu akun tanpa verified berpartisipasi dalam topik erupsi tersebut.\n",
        "*   Tweet dengan retweet terbanyak didapatkan oleh username \"bubblebeq\" berisi tentang doa yang dipanjatkan untuk mbak rumini. Dengan kejadian pada tanggal 7 Desember 2021 nama rumini menembus daftar trending topic di wilayah Indonesia. Rumini sendiri adalah salah satu korban dari erupsi gunung semeru yang memiliki kisah haru dengan ditemukan meninggal bersama ibu-nya dalam posisi berpelukan pasca erupsi gunung semeru.\n",
        "*   Total harian tweet terbanyak didapat pada hari ke tujuh dengan lebih dari seribu tweet.\n",
        "*   Jumlah pengguna twitter aktif memberikan tweet pada 11 UTC atau sekitar 18.00 WIB.\n",
        "*   Lalu tweet dengan likes terbanyak diperoleh dengan username \"BCSxPSS_1976\" berisi tentang ajakan donasi guna korban terdampak erupsi gunung semeru.\n",
        "*   Dalam data yang kami ambil tweet lebih banyak bersifat netral tanpa hate speech.\n",
        "\n",
        "\n",
        "\n",
        "\n",
        "\n",
        "\n",
        "\n"
      ],
      "metadata": {
        "id": "df6Ah0fVfTox"
      }
    },
    {
      "cell_type": "code",
      "source": [],
      "metadata": {
        "id": "f-_9aSK_GP1m"
      },
      "execution_count": null,
      "outputs": []
    }
  ],
  "metadata": {
    "colab": {
      "collapsed_sections": [
        "nZetD06tplA0",
        "T0Ltjnn8qBjV",
        "OB9ROrhWR0rE",
        "AsOQCucXTfKl",
        "p2xuKrqcgRVU"
      ],
      "provenance": []
    },
    "kernelspec": {
      "display_name": "Python 3",
      "name": "python3"
    },
    "language_info": {
      "name": "python"
    }
  },
  "nbformat": 4,
  "nbformat_minor": 0
}